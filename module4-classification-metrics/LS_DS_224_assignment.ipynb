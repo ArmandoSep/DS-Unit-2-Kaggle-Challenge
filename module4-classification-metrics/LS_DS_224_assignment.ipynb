{
  "nbformat": 4,
  "nbformat_minor": 0,
  "metadata": {
    "kernelspec": {
      "display_name": "Python 3",
      "language": "python",
      "name": "python3"
    },
    "language_info": {
      "codemirror_mode": {
        "name": "ipython",
        "version": 3
      },
      "file_extension": ".py",
      "mimetype": "text/x-python",
      "name": "python",
      "nbconvert_exporter": "python",
      "pygments_lexer": "ipython3",
      "version": "3.7.3"
    },
    "colab": {
      "name": "LS_DS_224_assignment.ipynb",
      "provenance": [],
      "include_colab_link": true
    },
    "widgets": {
      "application/vnd.jupyter.widget-state+json": {
        "ed53218844824eb4a1df2109c087908a": {
          "model_module": "@jupyter-widgets/controls",
          "model_name": "VBoxModel",
          "state": {
            "_view_name": "VBoxView",
            "_dom_classes": [
              "widget-interact"
            ],
            "_model_name": "VBoxModel",
            "_view_module": "@jupyter-widgets/controls",
            "_model_module_version": "1.5.0",
            "_view_count": null,
            "_view_module_version": "1.5.0",
            "box_style": "",
            "layout": "IPY_MODEL_dbd8b6e12f334890a24e2a463e2a6537",
            "_model_module": "@jupyter-widgets/controls",
            "children": [
              "IPY_MODEL_fcd2813c8fba408ab4048d84feba313a",
              "IPY_MODEL_c7afc6925ee34615afebffe55e939902"
            ]
          }
        },
        "dbd8b6e12f334890a24e2a463e2a6537": {
          "model_module": "@jupyter-widgets/base",
          "model_name": "LayoutModel",
          "state": {
            "_view_name": "LayoutView",
            "grid_template_rows": null,
            "right": null,
            "justify_content": null,
            "_view_module": "@jupyter-widgets/base",
            "overflow": null,
            "_model_module_version": "1.2.0",
            "_view_count": null,
            "flex_flow": null,
            "width": null,
            "min_width": null,
            "border": null,
            "align_items": null,
            "bottom": null,
            "_model_module": "@jupyter-widgets/base",
            "top": null,
            "grid_column": null,
            "overflow_y": null,
            "overflow_x": null,
            "grid_auto_flow": null,
            "grid_area": null,
            "grid_template_columns": null,
            "flex": null,
            "_model_name": "LayoutModel",
            "justify_items": null,
            "grid_row": null,
            "max_height": null,
            "align_content": null,
            "visibility": null,
            "align_self": null,
            "height": null,
            "min_height": null,
            "padding": null,
            "grid_auto_rows": null,
            "grid_gap": null,
            "max_width": null,
            "order": null,
            "_view_module_version": "1.2.0",
            "grid_template_areas": null,
            "object_position": null,
            "object_fit": null,
            "grid_auto_columns": null,
            "margin": null,
            "display": null,
            "left": null
          }
        },
        "fcd2813c8fba408ab4048d84feba313a": {
          "model_module": "@jupyter-widgets/controls",
          "model_name": "FloatSliderModel",
          "state": {
            "_view_name": "FloatSliderView",
            "style": "IPY_MODEL_b1560eb349424a5e81a7a07679e6e597",
            "_dom_classes": [],
            "description": "threshold",
            "step": 0.02,
            "_model_name": "FloatSliderModel",
            "orientation": "horizontal",
            "max": 1,
            "_view_module": "@jupyter-widgets/controls",
            "_model_module_version": "1.5.0",
            "value": 0.5,
            "_view_count": null,
            "disabled": false,
            "_view_module_version": "1.5.0",
            "min": 0,
            "continuous_update": true,
            "readout_format": ".2f",
            "description_tooltip": null,
            "readout": true,
            "_model_module": "@jupyter-widgets/controls",
            "layout": "IPY_MODEL_67d7c57b985443748453d958a0541bd1"
          }
        },
        "c7afc6925ee34615afebffe55e939902": {
          "model_module": "@jupyter-widgets/output",
          "model_name": "OutputModel",
          "state": {
            "_view_name": "OutputView",
            "msg_id": "",
            "_dom_classes": [],
            "_model_name": "OutputModel",
            "outputs": [
              {
                "output_type": "display_data",
                "metadata": {
                  "tags": [],
                  "needs_background": "light"
                },
                "image/png": "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\n",
                "text/plain": "<Figure size 432x288 with 1 Axes>"
              },
              {
                "output_type": "stream",
                "metadata": {
                  "tags": []
                },
                "text": "              precision    recall  f1-score   support\n\n       False       0.82      0.87      0.84      7798\n        True       0.84      0.77      0.80      6560\n\n    accuracy                           0.83     14358\n   macro avg       0.83      0.82      0.82     14358\nweighted avg       0.83      0.83      0.82     14358\n\n",
                "stream": "stdout"
              },
              {
                "output_type": "display_data",
                "metadata": {
                  "tags": [],
                  "needs_background": "light"
                },
                "image/png": "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\n",
                "text/plain": "<Figure size 432x288 with 2 Axes>"
              }
            ],
            "_view_module": "@jupyter-widgets/output",
            "_model_module_version": "1.0.0",
            "_view_count": null,
            "_view_module_version": "1.0.0",
            "layout": "IPY_MODEL_36df02bb622b4b97a2a42afb08bb5c4b",
            "_model_module": "@jupyter-widgets/output"
          }
        },
        "b1560eb349424a5e81a7a07679e6e597": {
          "model_module": "@jupyter-widgets/controls",
          "model_name": "SliderStyleModel",
          "state": {
            "_view_name": "StyleView",
            "handle_color": null,
            "_model_name": "SliderStyleModel",
            "description_width": "",
            "_view_module": "@jupyter-widgets/base",
            "_model_module_version": "1.5.0",
            "_view_count": null,
            "_view_module_version": "1.2.0",
            "_model_module": "@jupyter-widgets/controls"
          }
        },
        "67d7c57b985443748453d958a0541bd1": {
          "model_module": "@jupyter-widgets/base",
          "model_name": "LayoutModel",
          "state": {
            "_view_name": "LayoutView",
            "grid_template_rows": null,
            "right": null,
            "justify_content": null,
            "_view_module": "@jupyter-widgets/base",
            "overflow": null,
            "_model_module_version": "1.2.0",
            "_view_count": null,
            "flex_flow": null,
            "width": null,
            "min_width": null,
            "border": null,
            "align_items": null,
            "bottom": null,
            "_model_module": "@jupyter-widgets/base",
            "top": null,
            "grid_column": null,
            "overflow_y": null,
            "overflow_x": null,
            "grid_auto_flow": null,
            "grid_area": null,
            "grid_template_columns": null,
            "flex": null,
            "_model_name": "LayoutModel",
            "justify_items": null,
            "grid_row": null,
            "max_height": null,
            "align_content": null,
            "visibility": null,
            "align_self": null,
            "height": null,
            "min_height": null,
            "padding": null,
            "grid_auto_rows": null,
            "grid_gap": null,
            "max_width": null,
            "order": null,
            "_view_module_version": "1.2.0",
            "grid_template_areas": null,
            "object_position": null,
            "object_fit": null,
            "grid_auto_columns": null,
            "margin": null,
            "display": null,
            "left": null
          }
        },
        "36df02bb622b4b97a2a42afb08bb5c4b": {
          "model_module": "@jupyter-widgets/base",
          "model_name": "LayoutModel",
          "state": {
            "_view_name": "LayoutView",
            "grid_template_rows": null,
            "right": null,
            "justify_content": null,
            "_view_module": "@jupyter-widgets/base",
            "overflow": null,
            "_model_module_version": "1.2.0",
            "_view_count": null,
            "flex_flow": null,
            "width": null,
            "min_width": null,
            "border": null,
            "align_items": null,
            "bottom": null,
            "_model_module": "@jupyter-widgets/base",
            "top": null,
            "grid_column": null,
            "overflow_y": null,
            "overflow_x": null,
            "grid_auto_flow": null,
            "grid_area": null,
            "grid_template_columns": null,
            "flex": null,
            "_model_name": "LayoutModel",
            "justify_items": null,
            "grid_row": null,
            "max_height": null,
            "align_content": null,
            "visibility": null,
            "align_self": null,
            "height": null,
            "min_height": null,
            "padding": null,
            "grid_auto_rows": null,
            "grid_gap": null,
            "max_width": null,
            "order": null,
            "_view_module_version": "1.2.0",
            "grid_template_areas": null,
            "object_position": null,
            "object_fit": null,
            "grid_auto_columns": null,
            "margin": null,
            "display": null,
            "left": null
          }
        }
      }
    }
  },
  "cells": [
    {
      "cell_type": "markdown",
      "metadata": {
        "id": "view-in-github",
        "colab_type": "text"
      },
      "source": [
        "<a href=\"https://colab.research.google.com/github/ArmandoSep/DS-Unit-2-Kaggle-Challenge/blob/master/module4-classification-metrics/LS_DS_224_assignment.ipynb\" target=\"_parent\"><img src=\"https://colab.research.google.com/assets/colab-badge.svg\" alt=\"Open In Colab\"/></a>"
      ]
    },
    {
      "cell_type": "markdown",
      "metadata": {
        "id": "a1q-_pIH0zlJ",
        "colab_type": "text"
      },
      "source": [
        "Lambda School Data Science\n",
        "\n",
        "*Unit 2, Sprint 2, Module 4*\n",
        "\n",
        "---"
      ]
    },
    {
      "cell_type": "markdown",
      "metadata": {
        "colab_type": "text",
        "id": "nCc3XZEyG3XV"
      },
      "source": [
        "# Classification Metrics\n",
        "\n",
        "## Assignment\n",
        "- [ ] If you haven't yet, [review requirements for your portfolio project](https://lambdaschool.github.io/ds/unit2), then submit your dataset.\n",
        "- [ ] Plot a confusion matrix for your Tanzania Waterpumps model.\n",
        "- [ ] Continue to participate in our Kaggle challenge. Every student should have made at least one submission that scores at least 70% accuracy (well above the majority class baseline).\n",
        "- [ ] Submit your final predictions to our Kaggle competition. Optionally, go to **My Submissions**, and _\"you may select up to 1 submission to be used to count towards your final leaderboard score.\"_\n",
        "- [ ] Commit your notebook to your fork of the GitHub repo.\n",
        "- [ ] Read [Maximizing Scarce Maintenance Resources with Data: Applying predictive modeling, precision at k, and clustering to optimize impact](http://archive.is/DelgE), by Lambda DS3 student Michael Brady. His blog post extends the Tanzania Waterpumps scenario, far beyond what's in the lecture notebook.\n",
        "\n",
        "\n",
        "## Stretch Goals\n",
        "\n",
        "### Reading\n",
        "\n",
        "- [Attacking discrimination with smarter machine learning](https://research.google.com/bigpicture/attacking-discrimination-in-ml/), by Google Research, with  interactive visualizations. _\"A threshold classifier essentially makes a yes/no decision, putting things in one category or another. We look at how these classifiers work, ways they can potentially be unfair, and how you might turn an unfair classifier into a fairer one. As an illustrative example, we focus on loan granting scenarios where a bank may grant or deny a loan based on a single, automatically computed number such as a credit score.\"_\n",
        "- [Notebook about how to calculate expected value from a confusion matrix by treating it as a cost-benefit matrix](https://github.com/podopie/DAT18NYC/blob/master/classes/13-expected_value_cost_benefit_analysis.ipynb)\n",
        "- [Visualizing Machine Learning Thresholds to Make Better Business Decisions](https://blog.insightdatascience.com/visualizing-machine-learning-thresholds-to-make-better-business-decisions-4ab07f823415)\n",
        "\n",
        "\n",
        "### Doing\n",
        "- [ ] Share visualizations in our Slack channel!\n",
        "- [ ] RandomizedSearchCV / GridSearchCV, for model selection. (See module 3 assignment notebook)\n",
        "- [ ] Stacking Ensemble. (See module 3 assignment notebook)\n",
        "- [ ] More Categorical Encoding. (See module 2 assignment notebook)"
      ]
    },
    {
      "cell_type": "code",
      "metadata": {
        "colab_type": "code",
        "id": "lsbRiKBoB5RE",
        "colab": {}
      },
      "source": [
        "%%capture\n",
        "import sys\n",
        "\n",
        "# If you're on Colab:\n",
        "if 'google.colab' in sys.modules:\n",
        "    DATA_PATH = 'https://raw.githubusercontent.com/LambdaSchool/DS-Unit-2-Kaggle-Challenge/master/data/'\n",
        "    !pip install category_encoders==2.*\n",
        "\n",
        "# If you're working locally:\n",
        "else:\n",
        "    DATA_PATH = '../data/'"
      ],
      "execution_count": 0,
      "outputs": []
    },
    {
      "cell_type": "code",
      "metadata": {
        "colab_type": "code",
        "id": "BVA1lph8CcNX",
        "colab": {}
      },
      "source": [
        "import pandas as pd\n",
        "\n",
        "# Merge train_features.csv & train_labels.csv\n",
        "train = pd.merge(pd.read_csv(DATA_PATH+'waterpumps/train_features.csv'), \n",
        "                 pd.read_csv(DATA_PATH+'waterpumps/train_labels.csv'))\n",
        "\n",
        "# Read test_features.csv & sample_submission.csv\n",
        "test = pd.read_csv(DATA_PATH+'waterpumps/test_features.csv')\n",
        "sample_submission = pd.read_csv(DATA_PATH+'waterpumps/sample_submission.csv')"
      ],
      "execution_count": 0,
      "outputs": []
    },
    {
      "cell_type": "code",
      "metadata": {
        "id": "R2Cc9ToL0zlV",
        "colab_type": "code",
        "colab": {
          "base_uri": "https://localhost:8080/",
          "height": 34
        },
        "outputId": "ff670178-848c-4791-e625-cef05270b14b"
      },
      "source": [
        "%matplotlib inline\n",
        "import category_encoders as ce\n",
        "import matplotlib.pyplot as plt\n",
        "import numpy as np\n",
        "import pandas as pd\n",
        "import seaborn as sns\n",
        "from sklearn.impute import SimpleImputer\n",
        "from sklearn.metrics import accuracy_score\n",
        "from sklearn.model_selection import train_test_split\n",
        "from sklearn.pipeline import make_pipeline\n",
        "from sklearn.preprocessing import FunctionTransformer\n",
        "from sklearn.ensemble import RandomForestClassifier\n",
        "\n",
        "def wrangle(X):\n",
        "    \"\"\"Wrangles train, validate, and test sets in the same way\"\"\"\n",
        "    X = X.copy()\n",
        "\n",
        "    # Convert date_recorded to datetime\n",
        "    X['date_recorded'] = pd.to_datetime(X['date_recorded'], infer_datetime_format=True)\n",
        "    \n",
        "    # Extract components from date_recorded, then drop the original column\n",
        "    X['year_recorded'] = X['date_recorded'].dt.year\n",
        "    X['month_recorded'] = X['date_recorded'].dt.month\n",
        "    X['day_recorded'] = X['date_recorded'].dt.day\n",
        "    X = X.drop(columns='date_recorded')\n",
        "    \n",
        "    # Engineer feature: how many years from construction_year to date_recorded\n",
        "    X['years'] = X['year_recorded'] - X['construction_year']    \n",
        "    \n",
        "    # Drop recorded_by (never varies) and id (always varies, random)\n",
        "    unusable_variance = ['recorded_by', 'id']\n",
        "    X = X.drop(columns=unusable_variance)\n",
        "    \n",
        "    # Drop duplicate columns\n",
        "    duplicate_columns = ['quantity_group']\n",
        "    X = X.drop(columns=duplicate_columns)\n",
        "    \n",
        "    # About 3% of the time, latitude has small values near zero,\n",
        "    # outside Tanzania, so we'll treat these like null values\n",
        "    X['latitude'] = X['latitude'].replace(-2e-08, np.nan)\n",
        "    \n",
        "    # When columns have zeros and shouldn't, they are like null values\n",
        "    cols_with_zeros = ['construction_year', 'longitude', 'latitude', 'gps_height', 'population']\n",
        "    for col in cols_with_zeros:\n",
        "        X[col] = X[col].replace(0, np.nan)\n",
        "        \n",
        "    return X\n",
        "\n",
        "\n",
        "# Merge train_features.csv & train_labels.csv\n",
        "train = pd.merge(pd.read_csv(DATA_PATH+'waterpumps/train_features.csv'), \n",
        "                 pd.read_csv(DATA_PATH+'waterpumps/train_labels.csv'))\n",
        "\n",
        "# Read test_features.csv & sample_submission.csv\n",
        "test = pd.read_csv(DATA_PATH+'waterpumps/test_features.csv')\n",
        "sample_submission = pd.read_csv(DATA_PATH+'waterpumps/sample_submission.csv')\n",
        "\n",
        "# Split train into train & val. Make val the same size as test.\n",
        "target = 'status_group'\n",
        "train, val = train_test_split(train, test_size=len(test),  \n",
        "                              stratify=train[target], random_state=42)\n",
        "\n",
        "# Arrange data into X features matrix and y target vector\n",
        "X_train = train.drop(columns=target)\n",
        "y_train = train[target]\n",
        "X_val = val.drop(columns=target)\n",
        "y_val = val[target]\n",
        "X_test = test\n",
        "\n",
        "# Make pipeline!\n",
        "pipeline = make_pipeline(\n",
        "    FunctionTransformer(wrangle, validate=False), \n",
        "    ce.OrdinalEncoder(), \n",
        "    SimpleImputer(strategy='mean'), \n",
        "    RandomForestClassifier(n_estimators=100, random_state=42, n_jobs=-1)\n",
        ")\n",
        "\n",
        "# Fit on train, score on val\n",
        "pipeline.fit(X_train, y_train)\n",
        "y_pred = pipeline.predict(X_val)\n",
        "print('Validation Accuracy', accuracy_score(y_val, y_pred))"
      ],
      "execution_count": 15,
      "outputs": [
        {
          "output_type": "stream",
          "text": [
            "Validation Accuracy 0.8140409527789386\n"
          ],
          "name": "stdout"
        }
      ]
    },
    {
      "cell_type": "code",
      "metadata": {
        "id": "0ghp4dKr481g",
        "colab_type": "code",
        "colab": {
          "base_uri": "https://localhost:8080/",
          "height": 389
        },
        "outputId": "f944a590-9460-4179-87d8-e0e483794a34"
      },
      "source": [
        "from sklearn.metrics import plot_confusion_matrix\n",
        "plot_confusion_matrix(pipeline, X_val, y_val, values_format='.0f', xticks_rotation='vertical');"
      ],
      "execution_count": 17,
      "outputs": [
        {
          "output_type": "display_data",
          "data": {
            "image/png": "[encoded data removed]",
            "text/plain": [
              "<Figure size 432x288 with 2 Axes>"
            ]
          },
          "metadata": {
            "tags": [],
            "needs_background": "light"
          }
        }
      ]
    },
    {
      "cell_type": "code",
      "metadata": {
        "id": "_HlyDMkx6L5m",
        "colab_type": "code",
        "colab": {
          "base_uri": "https://localhost:8080/",
          "height": 190
        },
        "outputId": "19a4d4b4-98b2-45fd-ae11-e8954c724a57"
      },
      "source": [
        "from sklearn.metrics import classification_report\n",
        "print(classification_report(y_val, y_pred))"
      ],
      "execution_count": 18,
      "outputs": [
        {
          "output_type": "stream",
          "text": [
            "                         precision    recall  f1-score   support\n",
            "\n",
            "             functional       0.81      0.90      0.85      7798\n",
            "functional needs repair       0.58      0.32      0.41      1043\n",
            "         non functional       0.85      0.79      0.82      5517\n",
            "\n",
            "               accuracy                           0.81     14358\n",
            "              macro avg       0.75      0.67      0.69     14358\n",
            "           weighted avg       0.81      0.81      0.81     14358\n",
            "\n"
          ],
          "name": "stdout"
        }
      ]
    },
    {
      "cell_type": "markdown",
      "metadata": {
        "id": "g9jlYdKQ7GXH",
        "colab_type": "text"
      },
      "source": [
        "## Recreate the scenario with resources for only 2000 waterpumps"
      ]
    },
    {
      "cell_type": "code",
      "metadata": {
        "id": "l2kVS1LS7MvA",
        "colab_type": "code",
        "colab": {
          "base_uri": "https://localhost:8080/",
          "height": 86
        },
        "outputId": "361c1cf0-0998-4ece-9503-a00e95a066f3"
      },
      "source": [
        "y_train.value_counts(normalize=True)"
      ],
      "execution_count": 24,
      "outputs": [
        {
          "output_type": "execute_result",
          "data": {
            "text/plain": [
              "functional                 0.543071\n",
              "non functional             0.384241\n",
              "functional needs repair    0.072688\n",
              "Name: status_group, dtype: float64"
            ]
          },
          "metadata": {
            "tags": []
          },
          "execution_count": 24
        }
      ]
    },
    {
      "cell_type": "code",
      "metadata": {
        "id": "LJ--KfBb7S6O",
        "colab_type": "code",
        "colab": {
          "base_uri": "https://localhost:8080/",
          "height": 69
        },
        "outputId": "a988982f-82ec-4785-928c-3a889e491f01"
      },
      "source": [
        "y_train = y_train != 'functional'\n",
        "y_val = y_val != 'functional'\n",
        "y_train.value_counts(normalize=True)"
      ],
      "execution_count": 25,
      "outputs": [
        {
          "output_type": "execute_result",
          "data": {
            "text/plain": [
              "False    0.543071\n",
              "True     0.456929\n",
              "Name: status_group, dtype: float64"
            ]
          },
          "metadata": {
            "tags": []
          },
          "execution_count": 25
        }
      ]
    },
    {
      "cell_type": "code",
      "metadata": {
        "id": "PJ1KjCjE7fFo",
        "colab_type": "code",
        "colab": {}
      },
      "source": [
        "pipeline.fit(X_train, y_train)\n",
        "y_pred = pipeline.predict(X_val)"
      ],
      "execution_count": 0,
      "outputs": []
    },
    {
      "cell_type": "code",
      "metadata": {
        "id": "W7gpX2Uy6_h9",
        "colab_type": "code",
        "colab": {
          "base_uri": "https://localhost:8080/",
          "height": 138
        },
        "outputId": "1a12dc25-db33-4e7b-889a-14026cc78e48"
      },
      "source": [
        "pipeline.predict_proba(X_val)"
      ],
      "execution_count": 27,
      "outputs": [
        {
          "output_type": "execute_result",
          "data": {
            "text/plain": [
              "array([[0.  , 1.  ],\n",
              "       [0.26, 0.74],\n",
              "       [0.9 , 0.1 ],\n",
              "       ...,\n",
              "       [0.91, 0.09],\n",
              "       [0.41, 0.59],\n",
              "       [0.98, 0.02]])"
            ]
          },
          "metadata": {
            "tags": []
          },
          "execution_count": 27
        }
      ]
    },
    {
      "cell_type": "code",
      "metadata": {
        "id": "zidk-u3b6qXe",
        "colab_type": "code",
        "colab": {
          "base_uri": "https://localhost:8080/",
          "height": 701,
          "referenced_widgets": [
            "ed53218844824eb4a1df2109c087908a",
            "dbd8b6e12f334890a24e2a463e2a6537",
            "fcd2813c8fba408ab4048d84feba313a",
            "c7afc6925ee34615afebffe55e939902",
            "b1560eb349424a5e81a7a07679e6e597",
            "67d7c57b985443748453d958a0541bd1",
            "36df02bb622b4b97a2a42afb08bb5c4b"
          ]
        },
        "outputId": "4b8c8890-7ff1-483a-e093-f2a5adcfd5d4"
      },
      "source": [
        "from ipywidgets import interact, fixed\n",
        "import seaborn as sns\n",
        "from sklearn.metrics import confusion_matrix\n",
        "from sklearn.utils.multiclass import unique_labels\n",
        "\n",
        "def my_confusion_matrix(y_true, y_pred):\n",
        "  labels = unique_labels(y_true)\n",
        "  columns = [f'Predicted {label}' for label in labels]\n",
        "  index = [f'Actual {label}' for label in labels]\n",
        "  table = pd.DataFrame(confusion_matrix(y_true, y_pred),\n",
        "                       columns=columns, index=index)\n",
        "  return sns.heatmap(table, annot=True, fmt='d', cmap='viridis')\n",
        "\n",
        "def set_threshold(y_true, y_pred_proba, threshold=0.5):\n",
        "  y_pred = y_pred_proba > threshold\n",
        "  ax = sns.distplot(y_pred_proba)\n",
        "  ax.axvline(threshold, color='r')\n",
        "  plt.show()\n",
        "  print(classification_report(y_true, y_pred))\n",
        "  my_confusion_matrix(y_true, y_pred)\n",
        "\n",
        "interact(set_threshold,\n",
        "         y_true=fixed(y_val),\n",
        "         y_pred_proba=fixed(y_pred_proba),\n",
        "         threshold=(0,1,0.02));"
      ],
      "execution_count": 31,
      "outputs": [
        {
          "output_type": "display_data",
          "data": {
            "application/vnd.jupyter.widget-view+json": {
              "model_id": "ed53218844824eb4a1df2109c087908a",
              "version_minor": 0,
              "version_major": 2
            },
            "text/plain": [
              "interactive(children=(FloatSlider(value=0.5, description='threshold', max=1.0, step=0.02), Output()), _dom_cla…"
            ]
          },
          "metadata": {
            "tags": []
          }
        }
      ]
    },
    {
      "cell_type": "code",
      "metadata": {
        "id": "turv2jYL-NEo",
        "colab_type": "code",
        "colab": {}
      },
      "source": [
        ""
      ],
      "execution_count": 0,
      "outputs": []
    }
  ]
}