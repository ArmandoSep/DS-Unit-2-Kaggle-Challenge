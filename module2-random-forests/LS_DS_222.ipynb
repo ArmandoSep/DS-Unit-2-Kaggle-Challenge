{
  "nbformat": 4,
  "nbformat_minor": 0,
  "metadata": {
    "kernelspec": {
      "display_name": "Python 3",
      "language": "python",
      "name": "python3"
    },
    "language_info": {
      "codemirror_mode": {
        "name": "ipython",
        "version": 3
      },
      "file_extension": ".py",
      "mimetype": "text/x-python",
      "name": "python",
      "nbconvert_exporter": "python",
      "pygments_lexer": "ipython3",
      "version": "3.7.3"
    },
    "colab": {
      "name": "LS_DS_222.ipynb",
      "provenance": [],
      "include_colab_link": true
    },
    "widgets": {
      "application/vnd.jupyter.widget-state+json": {
        "0d597d6c28274bb887f259f100a35402": {
          "model_module": "@jupyter-widgets/controls",
          "model_name": "VBoxModel",
          "state": {
            "_view_name": "VBoxView",
            "_dom_classes": [
              "widget-interact"
            ],
            "_model_name": "VBoxModel",
            "_view_module": "@jupyter-widgets/controls",
            "_model_module_version": "1.5.0",
            "_view_count": null,
            "_view_module_version": "1.5.0",
            "box_style": "",
            "layout": "IPY_MODEL_5d97c34f280d4670b8ff2b35a6751fd1",
            "_model_module": "@jupyter-widgets/controls",
            "children": [
              "IPY_MODEL_6adb4b467d8849f8ae9ae36a29a61751",
              "IPY_MODEL_b370e7eb0f414d709a92ca8ca3eed847",
              "IPY_MODEL_ab05c38aa3674fffade2ab3372e0d316"
            ]
          }
        },
        "5d97c34f280d4670b8ff2b35a6751fd1": {
          "model_module": "@jupyter-widgets/base",
          "model_name": "LayoutModel",
          "state": {
            "_view_name": "LayoutView",
            "grid_template_rows": null,
            "right": null,
            "justify_content": null,
            "_view_module": "@jupyter-widgets/base",
            "overflow": null,
            "_model_module_version": "1.2.0",
            "_view_count": null,
            "flex_flow": null,
            "width": null,
            "min_width": null,
            "border": null,
            "align_items": null,
            "bottom": null,
            "_model_module": "@jupyter-widgets/base",
            "top": null,
            "grid_column": null,
            "overflow_y": null,
            "overflow_x": null,
            "grid_auto_flow": null,
            "grid_area": null,
            "grid_template_columns": null,
            "flex": null,
            "_model_name": "LayoutModel",
            "justify_items": null,
            "grid_row": null,
            "max_height": null,
            "align_content": null,
            "visibility": null,
            "align_self": null,
            "height": null,
            "min_height": null,
            "padding": null,
            "grid_auto_rows": null,
            "grid_gap": null,
            "max_width": null,
            "order": null,
            "_view_module_version": "1.2.0",
            "grid_template_areas": null,
            "object_position": null,
            "object_fit": null,
            "grid_auto_columns": null,
            "margin": null,
            "display": null,
            "left": null
          }
        },
        "6adb4b467d8849f8ae9ae36a29a61751": {
          "model_module": "@jupyter-widgets/controls",
          "model_name": "IntSliderModel",
          "state": {
            "_view_name": "IntSliderView",
            "style": "IPY_MODEL_c861e89c370b4c218c513647b861641e",
            "_dom_classes": [],
            "description": "max_depth",
            "step": 1,
            "_model_name": "IntSliderModel",
            "orientation": "horizontal",
            "max": 6,
            "_view_module": "@jupyter-widgets/controls",
            "_model_module_version": "1.5.0",
            "value": 3,
            "_view_count": null,
            "disabled": false,
            "_view_module_version": "1.5.0",
            "min": 1,
            "continuous_update": true,
            "readout_format": "d",
            "description_tooltip": null,
            "readout": true,
            "_model_module": "@jupyter-widgets/controls",
            "layout": "IPY_MODEL_91ad5bd68e024c2b859a4f22c4a6a92c"
          }
        },
        "b370e7eb0f414d709a92ca8ca3eed847": {
          "model_module": "@jupyter-widgets/controls",
          "model_name": "IntSliderModel",
          "state": {
            "_view_name": "IntSliderView",
            "style": "IPY_MODEL_496578b64b9b4b4f8276081a5c16071a",
            "_dom_classes": [],
            "description": "n_estimators",
            "step": 10,
            "_model_name": "IntSliderModel",
            "orientation": "horizontal",
            "max": 40,
            "_view_module": "@jupyter-widgets/controls",
            "_model_module_version": "1.5.0",
            "value": 10,
            "_view_count": null,
            "disabled": false,
            "_view_module_version": "1.5.0",
            "min": 10,
            "continuous_update": true,
            "readout_format": "d",
            "description_tooltip": null,
            "readout": true,
            "_model_module": "@jupyter-widgets/controls",
            "layout": "IPY_MODEL_11e3652d43e8450e969161f9f6c5c5cd"
          }
        },
        "ab05c38aa3674fffade2ab3372e0d316": {
          "model_module": "@jupyter-widgets/output",
          "model_name": "OutputModel",
          "state": {
            "_view_name": "OutputView",
            "msg_id": "",
            "_dom_classes": [],
            "_model_name": "OutputModel",
            "outputs": [
              {
                "output_type": "display_data",
                "metadata": {
                  "tags": [],
                  "needs_background": "light"
                },
                "image/png": "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\n",
                "text/plain": "<Figure size 432x288 with 1 Axes>"
              },
              {
                "output_type": "display_data",
                "metadata": {
                  "tags": [],
                  "needs_background": "light"
                },
                "image/png": "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\n",
                "text/plain": "<Figure size 432x288 with 1 Axes>"
              }
            ],
            "_view_module": "@jupyter-widgets/output",
            "_model_module_version": "1.0.0",
            "_view_count": null,
            "_view_module_version": "1.0.0",
            "layout": "IPY_MODEL_a8e8096a41d1435c91e39ed17164198e",
            "_model_module": "@jupyter-widgets/output"
          }
        },
        "c861e89c370b4c218c513647b861641e": {
          "model_module": "@jupyter-widgets/controls",
          "model_name": "SliderStyleModel",
          "state": {
            "_view_name": "StyleView",
            "handle_color": null,
            "_model_name": "SliderStyleModel",
            "description_width": "",
            "_view_module": "@jupyter-widgets/base",
            "_model_module_version": "1.5.0",
            "_view_count": null,
            "_view_module_version": "1.2.0",
            "_model_module": "@jupyter-widgets/controls"
          }
        },
        "91ad5bd68e024c2b859a4f22c4a6a92c": {
          "model_module": "@jupyter-widgets/base",
          "model_name": "LayoutModel",
          "state": {
            "_view_name": "LayoutView",
            "grid_template_rows": null,
            "right": null,
            "justify_content": null,
            "_view_module": "@jupyter-widgets/base",
            "overflow": null,
            "_model_module_version": "1.2.0",
            "_view_count": null,
            "flex_flow": null,
            "width": null,
            "min_width": null,
            "border": null,
            "align_items": null,
            "bottom": null,
            "_model_module": "@jupyter-widgets/base",
            "top": null,
            "grid_column": null,
            "overflow_y": null,
            "overflow_x": null,
            "grid_auto_flow": null,
            "grid_area": null,
            "grid_template_columns": null,
            "flex": null,
            "_model_name": "LayoutModel",
            "justify_items": null,
            "grid_row": null,
            "max_height": null,
            "align_content": null,
            "visibility": null,
            "align_self": null,
            "height": null,
            "min_height": null,
            "padding": null,
            "grid_auto_rows": null,
            "grid_gap": null,
            "max_width": null,
            "order": null,
            "_view_module_version": "1.2.0",
            "grid_template_areas": null,
            "object_position": null,
            "object_fit": null,
            "grid_auto_columns": null,
            "margin": null,
            "display": null,
            "left": null
          }
        },
        "496578b64b9b4b4f8276081a5c16071a": {
          "model_module": "@jupyter-widgets/controls",
          "model_name": "SliderStyleModel",
          "state": {
            "_view_name": "StyleView",
            "handle_color": null,
            "_model_name": "SliderStyleModel",
            "description_width": "",
            "_view_module": "@jupyter-widgets/base",
            "_model_module_version": "1.5.0",
            "_view_count": null,
            "_view_module_version": "1.2.0",
            "_model_module": "@jupyter-widgets/controls"
          }
        },
        "11e3652d43e8450e969161f9f6c5c5cd": {
          "model_module": "@jupyter-widgets/base",
          "model_name": "LayoutModel",
          "state": {
            "_view_name": "LayoutView",
            "grid_template_rows": null,
            "right": null,
            "justify_content": null,
            "_view_module": "@jupyter-widgets/base",
            "overflow": null,
            "_model_module_version": "1.2.0",
            "_view_count": null,
            "flex_flow": null,
            "width": null,
            "min_width": null,
            "border": null,
            "align_items": null,
            "bottom": null,
            "_model_module": "@jupyter-widgets/base",
            "top": null,
            "grid_column": null,
            "overflow_y": null,
            "overflow_x": null,
            "grid_auto_flow": null,
            "grid_area": null,
            "grid_template_columns": null,
            "flex": null,
            "_model_name": "LayoutModel",
            "justify_items": null,
            "grid_row": null,
            "max_height": null,
            "align_content": null,
            "visibility": null,
            "align_self": null,
            "height": null,
            "min_height": null,
            "padding": null,
            "grid_auto_rows": null,
            "grid_gap": null,
            "max_width": null,
            "order": null,
            "_view_module_version": "1.2.0",
            "grid_template_areas": null,
            "object_position": null,
            "object_fit": null,
            "grid_auto_columns": null,
            "margin": null,
            "display": null,
            "left": null
          }
        },
        "a8e8096a41d1435c91e39ed17164198e": {
          "model_module": "@jupyter-widgets/base",
          "model_name": "LayoutModel",
          "state": {
            "_view_name": "LayoutView",
            "grid_template_rows": null,
            "right": null,
            "justify_content": null,
            "_view_module": "@jupyter-widgets/base",
            "overflow": null,
            "_model_module_version": "1.2.0",
            "_view_count": null,
            "flex_flow": null,
            "width": null,
            "min_width": null,
            "border": null,
            "align_items": null,
            "bottom": null,
            "_model_module": "@jupyter-widgets/base",
            "top": null,
            "grid_column": null,
            "overflow_y": null,
            "overflow_x": null,
            "grid_auto_flow": null,
            "grid_area": null,
            "grid_template_columns": null,
            "flex": null,
            "_model_name": "LayoutModel",
            "justify_items": null,
            "grid_row": null,
            "max_height": null,
            "align_content": null,
            "visibility": null,
            "align_self": null,
            "height": null,
            "min_height": null,
            "padding": null,
            "grid_auto_rows": null,
            "grid_gap": null,
            "max_width": null,
            "order": null,
            "_view_module_version": "1.2.0",
            "grid_template_areas": null,
            "object_position": null,
            "object_fit": null,
            "grid_auto_columns": null,
            "margin": null,
            "display": null,
            "left": null
          }
        },
        "bb94296431ec466fb12ee452a4ff4817": {
          "model_module": "@jupyter-widgets/controls",
          "model_name": "VBoxModel",
          "state": {
            "_view_name": "VBoxView",
            "_dom_classes": [
              "widget-interact"
            ],
            "_model_name": "VBoxModel",
            "_view_module": "@jupyter-widgets/controls",
            "_model_module_version": "1.5.0",
            "_view_count": null,
            "_view_module_version": "1.5.0",
            "box_style": "",
            "layout": "IPY_MODEL_ff4cfa8bc39249f586f84993de270e8c",
            "_model_module": "@jupyter-widgets/controls",
            "children": [
              "IPY_MODEL_757f876f10c249049ef2e341ddbf4045",
              "IPY_MODEL_23135258b488472eb52e3e9a9e68f679",
              "IPY_MODEL_8bc6055c901446c58f049efae48c5c1d"
            ]
          }
        },
        "ff4cfa8bc39249f586f84993de270e8c": {
          "model_module": "@jupyter-widgets/base",
          "model_name": "LayoutModel",
          "state": {
            "_view_name": "LayoutView",
            "grid_template_rows": null,
            "right": null,
            "justify_content": null,
            "_view_module": "@jupyter-widgets/base",
            "overflow": null,
            "_model_module_version": "1.2.0",
            "_view_count": null,
            "flex_flow": null,
            "width": null,
            "min_width": null,
            "border": null,
            "align_items": null,
            "bottom": null,
            "_model_module": "@jupyter-widgets/base",
            "top": null,
            "grid_column": null,
            "overflow_y": null,
            "overflow_x": null,
            "grid_auto_flow": null,
            "grid_area": null,
            "grid_template_columns": null,
            "flex": null,
            "_model_name": "LayoutModel",
            "justify_items": null,
            "grid_row": null,
            "max_height": null,
            "align_content": null,
            "visibility": null,
            "align_self": null,
            "height": null,
            "min_height": null,
            "padding": null,
            "grid_auto_rows": null,
            "grid_gap": null,
            "max_width": null,
            "order": null,
            "_view_module_version": "1.2.0",
            "grid_template_areas": null,
            "object_position": null,
            "object_fit": null,
            "grid_auto_columns": null,
            "margin": null,
            "display": null,
            "left": null
          }
        },
        "757f876f10c249049ef2e341ddbf4045": {
          "model_module": "@jupyter-widgets/controls",
          "model_name": "IntSliderModel",
          "state": {
            "_view_name": "IntSliderView",
            "style": "IPY_MODEL_7fbc2131f12642df8a70040709dfc121",
            "_dom_classes": [],
            "description": "max_depth",
            "step": 1,
            "_model_name": "IntSliderModel",
            "orientation": "horizontal",
            "max": 6,
            "_view_module": "@jupyter-widgets/controls",
            "_model_module_version": "1.5.0",
            "value": 1,
            "_view_count": null,
            "disabled": false,
            "_view_module_version": "1.5.0",
            "min": 1,
            "continuous_update": true,
            "readout_format": "d",
            "description_tooltip": null,
            "readout": true,
            "_model_module": "@jupyter-widgets/controls",
            "layout": "IPY_MODEL_5c2abfc090b14a78ba42c7c35ac11047"
          }
        },
        "23135258b488472eb52e3e9a9e68f679": {
          "model_module": "@jupyter-widgets/controls",
          "model_name": "IntSliderModel",
          "state": {
            "_view_name": "IntSliderView",
            "style": "IPY_MODEL_2ece3506160248f6bd59b17da242d63b",
            "_dom_classes": [],
            "description": "n_estimators",
            "step": 10,
            "_model_name": "IntSliderModel",
            "orientation": "horizontal",
            "max": 40,
            "_view_module": "@jupyter-widgets/controls",
            "_model_module_version": "1.5.0",
            "value": 10,
            "_view_count": null,
            "disabled": false,
            "_view_module_version": "1.5.0",
            "min": 10,
            "continuous_update": true,
            "readout_format": "d",
            "description_tooltip": null,
            "readout": true,
            "_model_module": "@jupyter-widgets/controls",
            "layout": "IPY_MODEL_b234fdfa9359416ca21eddd6cd062fe3"
          }
        },
        "8bc6055c901446c58f049efae48c5c1d": {
          "model_module": "@jupyter-widgets/output",
          "model_name": "OutputModel",
          "state": {
            "_view_name": "OutputView",
            "msg_id": "",
            "_dom_classes": [],
            "_model_name": "OutputModel",
            "outputs": [
              {
                "output_type": "display_data",
                "metadata": {
                  "tags": [],
                  "needs_background": "light"
                },
                "image/png": "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\n",
                "text/plain": "<Figure size 432x288 with 2 Axes>"
              },
              {
                "output_type": "display_data",
                "metadata": {
                  "tags": [],
                  "needs_background": "light"
                },
                "image/png": "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\n",
                "text/plain": "<Figure size 432x288 with 2 Axes>"
              },
              {
                "output_type": "display_data",
                "metadata": {
                  "tags": [],
                  "needs_background": "light"
                },
                "image/png": "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\n",
                "text/plain": "<Figure size 432x288 with 2 Axes>"
              }
            ],
            "_view_module": "@jupyter-widgets/output",
            "_model_module_version": "1.0.0",
            "_view_count": null,
            "_view_module_version": "1.0.0",
            "layout": "IPY_MODEL_95320e3f0143467ba0444854d68d9875",
            "_model_module": "@jupyter-widgets/output"
          }
        },
        "7fbc2131f12642df8a70040709dfc121": {
          "model_module": "@jupyter-widgets/controls",
          "model_name": "SliderStyleModel",
          "state": {
            "_view_name": "StyleView",
            "handle_color": null,
            "_model_name": "SliderStyleModel",
            "description_width": "",
            "_view_module": "@jupyter-widgets/base",
            "_model_module_version": "1.5.0",
            "_view_count": null,
            "_view_module_version": "1.2.0",
            "_model_module": "@jupyter-widgets/controls"
          }
        },
        "5c2abfc090b14a78ba42c7c35ac11047": {
          "model_module": "@jupyter-widgets/base",
          "model_name": "LayoutModel",
          "state": {
            "_view_name": "LayoutView",
            "grid_template_rows": null,
            "right": null,
            "justify_content": null,
            "_view_module": "@jupyter-widgets/base",
            "overflow": null,
            "_model_module_version": "1.2.0",
            "_view_count": null,
            "flex_flow": null,
            "width": null,
            "min_width": null,
            "border": null,
            "align_items": null,
            "bottom": null,
            "_model_module": "@jupyter-widgets/base",
            "top": null,
            "grid_column": null,
            "overflow_y": null,
            "overflow_x": null,
            "grid_auto_flow": null,
            "grid_area": null,
            "grid_template_columns": null,
            "flex": null,
            "_model_name": "LayoutModel",
            "justify_items": null,
            "grid_row": null,
            "max_height": null,
            "align_content": null,
            "visibility": null,
            "align_self": null,
            "height": null,
            "min_height": null,
            "padding": null,
            "grid_auto_rows": null,
            "grid_gap": null,
            "max_width": null,
            "order": null,
            "_view_module_version": "1.2.0",
            "grid_template_areas": null,
            "object_position": null,
            "object_fit": null,
            "grid_auto_columns": null,
            "margin": null,
            "display": null,
            "left": null
          }
        },
        "2ece3506160248f6bd59b17da242d63b": {
          "model_module": "@jupyter-widgets/controls",
          "model_name": "SliderStyleModel",
          "state": {
            "_view_name": "StyleView",
            "handle_color": null,
            "_model_name": "SliderStyleModel",
            "description_width": "",
            "_view_module": "@jupyter-widgets/base",
            "_model_module_version": "1.5.0",
            "_view_count": null,
            "_view_module_version": "1.2.0",
            "_model_module": "@jupyter-widgets/controls"
          }
        },
        "b234fdfa9359416ca21eddd6cd062fe3": {
          "model_module": "@jupyter-widgets/base",
          "model_name": "LayoutModel",
          "state": {
            "_view_name": "LayoutView",
            "grid_template_rows": null,
            "right": null,
            "justify_content": null,
            "_view_module": "@jupyter-widgets/base",
            "overflow": null,
            "_model_module_version": "1.2.0",
            "_view_count": null,
            "flex_flow": null,
            "width": null,
            "min_width": null,
            "border": null,
            "align_items": null,
            "bottom": null,
            "_model_module": "@jupyter-widgets/base",
            "top": null,
            "grid_column": null,
            "overflow_y": null,
            "overflow_x": null,
            "grid_auto_flow": null,
            "grid_area": null,
            "grid_template_columns": null,
            "flex": null,
            "_model_name": "LayoutModel",
            "justify_items": null,
            "grid_row": null,
            "max_height": null,
            "align_content": null,
            "visibility": null,
            "align_self": null,
            "height": null,
            "min_height": null,
            "padding": null,
            "grid_auto_rows": null,
            "grid_gap": null,
            "max_width": null,
            "order": null,
            "_view_module_version": "1.2.0",
            "grid_template_areas": null,
            "object_position": null,
            "object_fit": null,
            "grid_auto_columns": null,
            "margin": null,
            "display": null,
            "left": null
          }
        },
        "95320e3f0143467ba0444854d68d9875": {
          "model_module": "@jupyter-widgets/base",
          "model_name": "LayoutModel",
          "state": {
            "_view_name": "LayoutView",
            "grid_template_rows": null,
            "right": null,
            "justify_content": null,
            "_view_module": "@jupyter-widgets/base",
            "overflow": null,
            "_model_module_version": "1.2.0",
            "_view_count": null,
            "flex_flow": null,
            "width": null,
            "min_width": null,
            "border": null,
            "align_items": null,
            "bottom": null,
            "_model_module": "@jupyter-widgets/base",
            "top": null,
            "grid_column": null,
            "overflow_y": null,
            "overflow_x": null,
            "grid_auto_flow": null,
            "grid_area": null,
            "grid_template_columns": null,
            "flex": null,
            "_model_name": "LayoutModel",
            "justify_items": null,
            "grid_row": null,
            "max_height": null,
            "align_content": null,
            "visibility": null,
            "align_self": null,
            "height": null,
            "min_height": null,
            "padding": null,
            "grid_auto_rows": null,
            "grid_gap": null,
            "max_width": null,
            "order": null,
            "_view_module_version": "1.2.0",
            "grid_template_areas": null,
            "object_position": null,
            "object_fit": null,
            "grid_auto_columns": null,
            "margin": null,
            "display": null,
            "left": null
          }
        }
      }
    }
  },
  "cells": [
    {
      "cell_type": "markdown",
      "metadata": {
        "id": "view-in-github",
        "colab_type": "text"
      },
      "source": [
        "<a href=\"https://colab.research.google.com/github/ArmandoSep/DS-Unit-2-Kaggle-Challenge/blob/master/module2-random-forests/LS_DS_222.ipynb\" target=\"_parent\"><img src=\"https://colab.research.google.com/assets/colab-badge.svg\" alt=\"Open In Colab\"/></a>"
      ]
    },
    {
      "cell_type": "markdown",
      "metadata": {
        "colab_type": "text",
        "id": "UEHyIgGaaSEJ"
      },
      "source": [
        "Lambda School Data Science\n",
        "\n",
        "*Unit 2, Sprint 2, Module 2*\n",
        "\n",
        "---"
      ]
    },
    {
      "cell_type": "markdown",
      "metadata": {
        "colab_type": "text",
        "id": "mRfPLX4WgLVJ"
      },
      "source": [
        "# Random Forests"
      ]
    },
    {
      "cell_type": "markdown",
      "metadata": {
        "colab_type": "text",
        "id": "jRRNhkxcgLVK"
      },
      "source": [
        "- use scikit-learn for **random forests**\n",
        "- do **ordinal encoding** with high-cardinality categoricals\n",
        "- understand how categorical encodings affect trees differently compared to linear models\n",
        "- understand how tree ensembles reduce overfitting compared to a single decision tree with unlimited depth"
      ]
    },
    {
      "cell_type": "markdown",
      "metadata": {
        "colab_type": "text",
        "id": "-3TH11e1gLVL"
      },
      "source": [
        "Today's lesson has two take-away messages:\n",
        "\n",
        "#### Try Tree Ensembles when you do machine learning with labeled, tabular data\n",
        "- \"Tree Ensembles\" means Random Forest or Gradient Boosting models. \n",
        "- [Tree Ensembles often have the best predictive accuracy](https://arxiv.org/abs/1708.05070) with labeled, tabular data.\n",
        "- Why? Because trees can fit non-linear, non-[monotonic](https://en.wikipedia.org/wiki/Monotonic_function) relationships, and [interactions](https://christophm.github.io/interpretable-ml-book/interaction.html) between features.\n",
        "- A single decision tree, grown to unlimited depth, will [overfit](http://www.r2d3.us/visual-intro-to-machine-learning-part-1/). We solve this problem by ensembling trees, with bagging (Random Forest) or boosting (Gradient Boosting).\n",
        "- Random Forest's advantage: may be less sensitive to hyperparameters. Gradient Boosting's advantage: may get better predictive accuracy.\n",
        "\n",
        "#### One-hot encoding isn’t the only way, and may not be the best way, of categorical encoding for tree ensembles.\n",
        "- For example, tree ensembles can work with arbitrary \"ordinal\" encoding! (Randomly assigning an integer to each category.) Compared to one-hot encoding, the dimensionality will be lower, and the predictive accuracy may be just as good or even better.\n"
      ]
    },
    {
      "cell_type": "markdown",
      "metadata": {
        "colab_type": "text",
        "id": "r5PbOFEuFfGF"
      },
      "source": [
        "### Setup\n",
        "\n",
        "Run the code cell below. You can work locally (follow the [local setup instructions](https://lambdaschool.github.io/ds/unit2/local/)) or on Colab.\n",
        "\n",
        "Libraries\n",
        "\n",
        "- **category_encoders** \n",
        "- **graphviz**\n",
        "- ipywidgets\n",
        "- matplotlib\n",
        "- numpy\n",
        "- pandas\n",
        "- seaborn\n",
        "- scikit-learn"
      ]
    },
    {
      "cell_type": "code",
      "metadata": {
        "colab_type": "code",
        "id": "FStAplyRFoEu",
        "colab": {}
      },
      "source": [
        "%%capture\n",
        "import sys\n",
        "\n",
        "# If you're on Colab:\n",
        "if 'google.colab' in sys.modules:\n",
        "    DATA_PATH = 'https://raw.githubusercontent.com/LambdaSchool/DS-Unit-2-Kaggle-Challenge/master/data/'\n",
        "    !pip install category_encoders==2.*\n",
        "\n",
        "# If you're working locally:\n",
        "else:\n",
        "    DATA_PATH = '../data/'"
      ],
      "execution_count": 0,
      "outputs": []
    },
    {
      "cell_type": "markdown",
      "metadata": {
        "colab_type": "text",
        "id": "ZL-yK8B7gLVW"
      },
      "source": [
        "# Use scikit-learn for random forests"
      ]
    },
    {
      "cell_type": "markdown",
      "metadata": {
        "id": "RPWeAtrT1OLM",
        "colab_type": "text"
      },
      "source": [
        "## Overview\n",
        "\n",
        "Let's fit a Random Forest!\n",
        "\n",
        "![](https://pbs.twimg.com/media/EGSvKA0UUAEzUZi?format=png)\n",
        "\n",
        "[Chris Albon, MachineLearningFlashcards.com](https://twitter.com/chrisalbon/status/1181261589887909889)"
      ]
    },
    {
      "cell_type": "markdown",
      "metadata": {
        "colab_type": "text",
        "id": "gHFxMCPSgLVM"
      },
      "source": [
        "### Solution example\n",
        "\n",
        "First, read & wrangle the data.\n",
        "\n",
        "> Define a function to wrangle train, validate, and test sets in the same way. Clean outliers and engineer features. (For example, [what other columns have zeros and shouldn't?](https://github.com/Quartz/bad-data-guide#zeros-replace-missing-values) What other columns are duplicates, or nearly duplicates? Can you extract the year from date_recorded? Can you engineer new features, such as the number of years from waterpump construction to waterpump inspection?)"
      ]
    },
    {
      "cell_type": "code",
      "metadata": {
        "colab_type": "code",
        "id": "YTLm-rDagLVM",
        "colab": {}
      },
      "source": [
        "import numpy as np\n",
        "import pandas as pd\n",
        "from sklearn.model_selection import train_test_split\n",
        "\n",
        "# Merge train_features.csv & train_labels.csv\n",
        "train = pd.merge(pd.read_csv(DATA_PATH+'waterpumps/train_features.csv'), \n",
        "                 pd.read_csv(DATA_PATH+'waterpumps/train_labels.csv'))\n",
        "\n",
        "# Read test_features.csv & sample_submission.csv\n",
        "test = pd.read_csv(DATA_PATH+'waterpumps/test_features.csv')\n",
        "sample_submission = pd.read_csv(DATA_PATH+'waterpumps/sample_submission.csv')\n",
        "\n",
        "# Split train into train & val\n",
        "train, val = train_test_split(train, train_size=0.80, test_size=0.20, \n",
        "                              stratify=train['status_group'], random_state=42)\n",
        "\n",
        "\n",
        "def wrangle(X):\n",
        "    \"\"\"Wrangle train, validate, and test sets in the same way\"\"\"\n",
        "    \n",
        "    # Prevent SettingWithCopyWarning\n",
        "    X = X.copy()\n",
        "    \n",
        "    # About 3% of the time, latitude has small values near zero,\n",
        "    # outside Tanzania, so we'll treat these values like zero.\n",
        "    X['latitude'] = X['latitude'].replace(-2e-08, 0)\n",
        "    \n",
        "    # When columns have zeros and shouldn't, they are like null values.\n",
        "    # So we will replace the zeros with nulls, and impute missing values later.\n",
        "    # Also create a \"missing indicator\" column, because the fact that\n",
        "    # values are missing may be a predictive signal.\n",
        "    cols_with_zeros = ['longitude', 'latitude', 'construction_year', \n",
        "                       'gps_height', 'population']\n",
        "    for col in cols_with_zeros:\n",
        "        X[col] = X[col].replace(0, np.nan)\n",
        "        X[col+'_MISSING'] = X[col].isnull()\n",
        "            \n",
        "    # Drop duplicate columns\n",
        "    duplicates = ['quantity_group', 'payment_type']\n",
        "    X = X.drop(columns=duplicates)\n",
        "    \n",
        "    # Drop recorded_by (never varies) and id (always varies, random)\n",
        "    unusable_variance = ['recorded_by', 'id']\n",
        "    X = X.drop(columns=unusable_variance)\n",
        "    \n",
        "    # Convert date_recorded to datetime\n",
        "    X['date_recorded'] = pd.to_datetime(X['date_recorded'], infer_datetime_format=True)\n",
        "    \n",
        "    # Extract components from date_recorded, then drop the original column\n",
        "    X['year_recorded'] = X['date_recorded'].dt.year\n",
        "    X['month_recorded'] = X['date_recorded'].dt.month\n",
        "    X['day_recorded'] = X['date_recorded'].dt.day\n",
        "    X = X.drop(columns='date_recorded')\n",
        "    \n",
        "    # Engineer feature: how many years from construction_year to date_recorded\n",
        "    X['years'] = X['year_recorded'] - X['construction_year']\n",
        "    X['years_MISSING'] = X['years'].isnull()\n",
        "    \n",
        "    # return the wrangled dataframe\n",
        "    return X\n",
        "\n",
        "train = wrangle(train)\n",
        "val = wrangle(val)\n",
        "test = wrangle(test)"
      ],
      "execution_count": 0,
      "outputs": []
    },
    {
      "cell_type": "code",
      "metadata": {
        "colab_type": "code",
        "id": "m2HppBvZgLVP",
        "colab": {}
      },
      "source": [
        "# The status_group column is the target\n",
        "target = 'status_group'\n",
        "\n",
        "# Get a dataframe with all train columns except the target\n",
        "train_features = train.drop(columns=[target])\n",
        "\n",
        "# Get a list of the numeric features\n",
        "numeric_features = train_features.select_dtypes(include='number').columns.tolist()\n",
        "\n",
        "# Get a series with the cardinality of the nonnumeric features\n",
        "cardinality = train_features.select_dtypes(exclude='number').nunique()\n",
        "\n",
        "# Get a list of all categorical features with cardinality <= 50\n",
        "categorical_features = cardinality[cardinality <= 50].index.tolist()\n",
        "\n",
        "# Combine the lists \n",
        "features = numeric_features + categorical_features"
      ],
      "execution_count": 0,
      "outputs": []
    },
    {
      "cell_type": "code",
      "metadata": {
        "colab_type": "code",
        "id": "aXmK2brXgLVR",
        "colab": {}
      },
      "source": [
        "# Arrange data into X features matrix and y target vector \n",
        "X_train = train[features]\n",
        "y_train = train[target]\n",
        "X_val = val[features]\n",
        "y_val = val[target]\n",
        "X_test = test[features]"
      ],
      "execution_count": 0,
      "outputs": []
    },
    {
      "cell_type": "markdown",
      "metadata": {
        "id": "7Bj-29YN1OLX",
        "colab_type": "text"
      },
      "source": [
        "## Follow Along\n",
        "\n",
        "[Scikit-Learn User Guide: Random Forests](https://scikit-learn.org/stable/modules/ensemble.html#random-forests) "
      ]
    },
    {
      "cell_type": "code",
      "metadata": {
        "colab_type": "code",
        "id": "57yyygsdgLVW",
        "colab": {
          "base_uri": "https://localhost:8080/",
          "height": 69
        },
        "outputId": "7901b81e-6d1d-4223-ddbd-79d835f46449"
      },
      "source": [
        "# %%time -> Time how much it takes this cell to run.\n",
        "# sometimes has quirks/bugs\n",
        "%%time\n",
        "\n",
        "import category_encoders as ce\n",
        "from sklearn.pipeline import make_pipeline\n",
        "from sklearn.ensemble import RandomForestClassifier\n",
        "from sklearn.impute import SimpleImputer\n",
        "\n",
        "pipeline = make_pipeline(\n",
        "    ce.OneHotEncoder(use_cat_names=True),\n",
        "    SimpleImputer(strategy='median'),\n",
        "    RandomForestClassifier(random_state=0, n_jobs=-1)\n",
        ")\n",
        "\n",
        "# Fit on train, score val\n",
        "pipeline.fit(X_train, y_train)\n",
        "print('Validation Acurracy', pipeline.score(X_val, y_val))"
      ],
      "execution_count": 9,
      "outputs": [
        {
          "output_type": "stream",
          "text": [
            "Validation Acurracy 0.8088383838383838\n",
            "CPU times: user 23.8 s, sys: 208 ms, total: 24 s\n",
            "Wall time: 14.6 s\n"
          ],
          "name": "stdout"
        }
      ]
    },
    {
      "cell_type": "code",
      "metadata": {
        "id": "1avXbsUc-K4j",
        "colab_type": "code",
        "colab": {
          "base_uri": "https://localhost:8080/",
          "height": 34
        },
        "outputId": "58fdcffe-e7cd-485d-93e1-d1d4e2d518ab"
      },
      "source": [
        "train.shape"
      ],
      "execution_count": 18,
      "outputs": [
        {
          "output_type": "execute_result",
          "data": {
            "text/plain": [
              "(47520, 46)"
            ]
          },
          "metadata": {
            "tags": []
          },
          "execution_count": 18
        }
      ]
    },
    {
      "cell_type": "code",
      "metadata": {
        "id": "SQeT3_NQ6wch",
        "colab_type": "code",
        "colab": {
          "base_uri": "https://localhost:8080/",
          "height": 34
        },
        "outputId": "07ac2da6-0812-4c10-d0af-50e184e07ba5"
      },
      "source": [
        "print('X_train shape before encoding', X_train.shape)"
      ],
      "execution_count": 10,
      "outputs": [
        {
          "output_type": "stream",
          "text": [
            "X_train shape before encoding (47520, 38)\n"
          ],
          "name": "stdout"
        }
      ]
    },
    {
      "cell_type": "code",
      "metadata": {
        "id": "I_XCCijb7wVZ",
        "colab_type": "code",
        "colab": {
          "base_uri": "https://localhost:8080/",
          "height": 34
        },
        "outputId": "2ada12fc-da0d-499e-c4f8-0db33ac88716"
      },
      "source": [
        "encoder = pipeline.named_steps['onehotencoder']\n",
        "encoded = encoder.transform(X_train)\n",
        "print('X_train shape after encoding', encoded.shape)"
      ],
      "execution_count": 11,
      "outputs": [
        {
          "output_type": "stream",
          "text": [
            "X_train shape after encoding (47520, 182)\n"
          ],
          "name": "stdout"
        }
      ]
    },
    {
      "cell_type": "code",
      "metadata": {
        "id": "WDM1w1M3CqDr",
        "colab_type": "code",
        "colab": {
          "base_uri": "https://localhost:8080/",
          "height": 173
        },
        "outputId": "61ba888e-4398-4cf5-f84c-f5d9eeba9fec"
      },
      "source": [
        ""
      ],
      "execution_count": 21,
      "outputs": [
        {
          "output_type": "execute_result",
          "data": {
            "text/plain": [
              "array([0.02334523, 0.02946014, 0.04360734, 0.02511029, 0.07985859,\n",
              "       0.07925025, 0.05681825, 0.00097907, 0.01248651, 0.05278803,\n",
              "       0.01297126, 0.01335522, 0.01559236, 0.02188216, 0.03598611,\n",
              "       0.03095588, 0.0074288 , 0.01183177, 0.02279487, 0.00669209,\n",
              "       0.03148444, 0.01830741, 0.0177702 , 0.01993038, 0.01181866,\n",
              "       0.00470702, 0.02008464, 0.00793054, 0.00830949, 0.08488853,\n",
              "       0.01327495, 0.01257504, 0.00457754, 0.03590192, 0.02668185,\n",
              "       0.00136767, 0.00149371, 0.00186524, 0.00199941, 0.00184837,\n",
              "       0.00476016, 0.01459462, 0.03639371, 0.0324259 , 0.00181439])"
            ]
          },
          "metadata": {
            "tags": []
          },
          "execution_count": 21
        }
      ]
    },
    {
      "cell_type": "markdown",
      "metadata": {
        "colab_type": "text",
        "id": "yfyk_aa5gLVY"
      },
      "source": [
        "# Do ordinal encoding with high-cardinality categoricals"
      ]
    },
    {
      "cell_type": "markdown",
      "metadata": {
        "id": "N_aB2ux71OLa",
        "colab_type": "text"
      },
      "source": [
        "## Overview\n",
        "\n",
        "https://contrib.scikit-learn.org/category_encoders/ordinal.html"
      ]
    },
    {
      "cell_type": "markdown",
      "metadata": {
        "id": "vbRZOTpe1OLb",
        "colab_type": "text"
      },
      "source": [
        "## Follow Along"
      ]
    },
    {
      "cell_type": "code",
      "metadata": {
        "colab_type": "code",
        "id": "b8d_WJtcgLVZ",
        "colab": {}
      },
      "source": [
        "# Re-aarange data into X features matrix and y target, so \n",
        "# we use all features, including the high-cardinality categoricals\n",
        "X_train = train.drop(columns=target)\n",
        "y_train = train[target]\n",
        "X_val = val.drop(columns=target)\n",
        "y_val = val[target]\n",
        "X_test = test"
      ],
      "execution_count": 0,
      "outputs": []
    },
    {
      "cell_type": "code",
      "metadata": {
        "id": "yty07P2z9DHo",
        "colab_type": "code",
        "colab": {
          "base_uri": "https://localhost:8080/",
          "height": 69
        },
        "outputId": "2b1db1cd-b326-4fa7-fd6e-98a4fcdfb522"
      },
      "source": [
        "%%time\n",
        "\n",
        "# This pipeline is identical to the example cell above,\n",
        "# except we're replacing one-hot encoder with \"ordinal\" encoder\n",
        "\n",
        "pipeline = make_pipeline(\n",
        "    ce.OrdinalEncoder(),\n",
        "    SimpleImputer(strategy='median'),\n",
        "    RandomForestClassifier(random_state=0, n_jobs=-1)\n",
        ")\n",
        "\n",
        "#Fit on train, score on val\n",
        "pipeline.fit(X_train, y_train)\n",
        "print('Validation Accuracy', pipeline.score(X_val, y_val))"
      ],
      "execution_count": 16,
      "outputs": [
        {
          "output_type": "stream",
          "text": [
            "Validation Accuracy 0.8092592592592592\n",
            "CPU times: user 18.1 s, sys: 139 ms, total: 18.2 s\n",
            "Wall time: 10.1 s\n"
          ],
          "name": "stdout"
        }
      ]
    },
    {
      "cell_type": "code",
      "metadata": {
        "id": "7RR42qPx-H6q",
        "colab_type": "code",
        "colab": {
          "base_uri": "https://localhost:8080/",
          "height": 34
        },
        "outputId": "a7dde585-ff18-4ec8-8081-415dfe369c49"
      },
      "source": [
        "print('X_train shape before encoding', X_train.shape)"
      ],
      "execution_count": 17,
      "outputs": [
        {
          "output_type": "stream",
          "text": [
            "X_train shape before encoding (47520, 45)\n"
          ],
          "name": "stdout"
        }
      ]
    },
    {
      "cell_type": "code",
      "metadata": {
        "id": "B0SVqDxx-OYx",
        "colab_type": "code",
        "colab": {
          "base_uri": "https://localhost:8080/",
          "height": 34
        },
        "outputId": "b70ad887-2e3d-47d2-b357-d2bde498b366"
      },
      "source": [
        "encoder = pipeline.named_steps['ordinalencoder']\n",
        "encoded = encoder.transform(X_train)\n",
        "print('X_train shape after encoding', encoded.shape)"
      ],
      "execution_count": 19,
      "outputs": [
        {
          "output_type": "stream",
          "text": [
            "X_train shape after encoding (47520, 45)\n"
          ],
          "name": "stdout"
        }
      ]
    },
    {
      "cell_type": "markdown",
      "metadata": {
        "id": "gna8HMfsCyM-",
        "colab_type": "text"
      },
      "source": [
        "Coefficients versus Feature Importnaces\n",
        "- Alike: both estimate the **strenght** of the **relationship** between an individual feature and the target **in the model**. (assuming the features in the linear model are scaled/standarized).\n",
        "- Different: Coefficients can be negative or positive, which tells you the direction of the relationship between an individual feature and the target.\n",
        "Feature importances are **always positive** becuase it **fits non-linear, non-motonic relationships**."
      ]
    },
    {
      "cell_type": "code",
      "metadata": {
        "id": "yvnHCDi2CJV2",
        "colab_type": "code",
        "colab": {
          "base_uri": "https://localhost:8080/",
          "height": 606
        },
        "outputId": "01a17306-6c82-4bb6-e41d-5f36988fa0b7"
      },
      "source": [
        "%matplotlib inline\n",
        "import matplotlib.pyplot as plt\n",
        "\n",
        "# Get feature importances\n",
        "rf = pipeline.named_steps['randomforestclassifier']\n",
        "importances = pd.Series(rf.feature_importances_, encoded.columns)\n",
        "\n",
        "# Plot the top n feature importances\n",
        "n = 20\n",
        "plt.figure(figsize=(10, n/2))\n",
        "plt.title(f'Top {n} features with ordinal encoding')\n",
        "importances.sort_values()[-n:].plot.barh();"
      ],
      "execution_count": 28,
      "outputs": [
        {
          "output_type": "display_data",
          "data": {
            "image/png": "[encoded data removed]",
            "text/plain": [
              "<Figure size 720x720 with 1 Axes>"
            ]
          },
          "metadata": {
            "tags": [],
            "needs_background": "light"
          }
        }
      ]
    },
    {
      "cell_type": "markdown",
      "metadata": {
        "colab_type": "text",
        "id": "xs2UPoVdgLVp"
      },
      "source": [
        "\n",
        "# Understand how categorical encodings affect trees differently compared to linear models"
      ]
    },
    {
      "cell_type": "markdown",
      "metadata": {
        "id": "kvYhIWKC1OLe",
        "colab_type": "text"
      },
      "source": [
        "## Follow Along"
      ]
    },
    {
      "cell_type": "markdown",
      "metadata": {
        "colab_type": "text",
        "id": "z8V-A92mgLVp"
      },
      "source": [
        "### Categorical exploration, 1 feature at a time\n",
        "\n",
        "Change `feature`, then re-run these cells!"
      ]
    },
    {
      "cell_type": "code",
      "metadata": {
        "colab_type": "code",
        "id": "G35RAzVdgLVq",
        "colab": {}
      },
      "source": [
        "feature = 'extraction_type_class'"
      ],
      "execution_count": 0,
      "outputs": []
    },
    {
      "cell_type": "code",
      "metadata": {
        "colab_type": "code",
        "id": "OuxHWiH8gLVr",
        "colab": {
          "base_uri": "https://localhost:8080/",
          "height": 156
        },
        "outputId": "f71f9218-4de9-4e03-8999-f58bf4a40a0a"
      },
      "source": [
        "X_train[feature].value_counts()"
      ],
      "execution_count": 30,
      "outputs": [
        {
          "output_type": "execute_result",
          "data": {
            "text/plain": [
              "gravity         21448\n",
              "handpump        13184\n",
              "other            5193\n",
              "submersible      4894\n",
              "motorpump        2355\n",
              "rope pump         353\n",
              "wind-powered       93\n",
              "Name: extraction_type_class, dtype: int64"
            ]
          },
          "metadata": {
            "tags": []
          },
          "execution_count": 30
        }
      ]
    },
    {
      "cell_type": "code",
      "metadata": {
        "colab_type": "code",
        "id": "pVxoC4NngLVt",
        "colab": {
          "base_uri": "https://localhost:8080/",
          "height": 552
        },
        "outputId": "e380a19b-4758-4fb0-fc9a-6c44222aad6d"
      },
      "source": [
        "import seaborn as sns\n",
        "plt.figure(figsize=(16,9))\n",
        "sns.barplot(\n",
        "    x=train[feature], \n",
        "    y=train['status_group']=='functional', \n",
        "    color='grey'\n",
        ");"
      ],
      "execution_count": 31,
      "outputs": [
        {
          "output_type": "display_data",
          "data": {
            "image/png": "[encoded data removed]",
            "text/plain": [
              "<Figure size 1152x648 with 1 Axes>"
            ]
          },
          "metadata": {
            "tags": [],
            "needs_background": "light"
          }
        }
      ]
    },
    {
      "cell_type": "code",
      "metadata": {
        "colab_type": "code",
        "id": "w99mek14gLVv",
        "colab": {
          "base_uri": "https://localhost:8080/",
          "height": 381
        },
        "outputId": "d83c51ef-6c3b-4b3e-d829-22fc70e16013"
      },
      "source": [
        "X_train[feature].head(20)"
      ],
      "execution_count": 32,
      "outputs": [
        {
          "output_type": "execute_result",
          "data": {
            "text/plain": [
              "43360        gravity\n",
              "7263         gravity\n",
              "2486        handpump\n",
              "313            other\n",
              "52726      motorpump\n",
              "8558         gravity\n",
              "2559         gravity\n",
              "54735      motorpump\n",
              "25763       handpump\n",
              "44540    submersible\n",
              "28603          other\n",
              "4372     submersible\n",
              "30666        gravity\n",
              "6431     submersible\n",
              "57420          other\n",
              "1373         gravity\n",
              "2026         gravity\n",
              "58977       handpump\n",
              "41101        gravity\n",
              "10019        gravity\n",
              "Name: extraction_type_class, dtype: object"
            ]
          },
          "metadata": {
            "tags": []
          },
          "execution_count": 32
        }
      ]
    },
    {
      "cell_type": "markdown",
      "metadata": {
        "colab_type": "text",
        "id": "ezzK2IdbgLVx"
      },
      "source": [
        "### [One Hot Encoding](https://contrib.scikit-learn.org/category_encoders/onehot.html)\n",
        "\n",
        "> Onehot (or dummy) coding for categorical features, produces one feature per category, each binary.\n",
        "\n",
        "Warning: May run slow, or run out of memory, with high cardinality categoricals!"
      ]
    },
    {
      "cell_type": "code",
      "metadata": {
        "colab_type": "code",
        "id": "HDQZtV6GgLVy",
        "colab": {
          "base_uri": "https://localhost:8080/",
          "height": 717
        },
        "outputId": "06a5a29d-9005-4d5c-eae9-2f9fdf49cf6a"
      },
      "source": [
        "encoder = ce.OneHotEncoder(use_cat_names=True)\n",
        "encoded = encoder.fit_transform(X_train[[feature]])\n",
        "print(f'{len(encoded.columns)} columns')\n",
        "encoded.head(20)"
      ],
      "execution_count": 33,
      "outputs": [
        {
          "output_type": "stream",
          "text": [
            "7 columns\n"
          ],
          "name": "stdout"
        },
        {
          "output_type": "execute_result",
          "data": {
            "text/html": [
              "<div>\n",
              "<style scoped>\n",
              "    .dataframe tbody tr th:only-of-type {\n",
              "        vertical-align: middle;\n",
              "    }\n",
              "\n",
              "    .dataframe tbody tr th {\n",
              "        vertical-align: top;\n",
              "    }\n",
              "\n",
              "    .dataframe thead th {\n",
              "        text-align: right;\n",
              "    }\n",
              "</style>\n",
              "<table border=\"1\" class=\"dataframe\">\n",
              "  <thead>\n",
              "    <tr style=\"text-align: right;\">\n",
              "      <th></th>\n",
              "      <th>extraction_type_class_gravity</th>\n",
              "      <th>extraction_type_class_handpump</th>\n",
              "      <th>extraction_type_class_other</th>\n",
              "      <th>extraction_type_class_motorpump</th>\n",
              "      <th>extraction_type_class_submersible</th>\n",
              "      <th>extraction_type_class_rope pump</th>\n",
              "      <th>extraction_type_class_wind-powered</th>\n",
              "    </tr>\n",
              "  </thead>\n",
              "  <tbody>\n",
              "    <tr>\n",
              "      <th>43360</th>\n",
              "      <td>1</td>\n",
              "      <td>0</td>\n",
              "      <td>0</td>\n",
              "      <td>0</td>\n",
              "      <td>0</td>\n",
              "      <td>0</td>\n",
              "      <td>0</td>\n",
              "    </tr>\n",
              "    <tr>\n",
              "      <th>7263</th>\n",
              "      <td>1</td>\n",
              "      <td>0</td>\n",
              "      <td>0</td>\n",
              "      <td>0</td>\n",
              "      <td>0</td>\n",
              "      <td>0</td>\n",
              "      <td>0</td>\n",
              "    </tr>\n",
              "    <tr>\n",
              "      <th>2486</th>\n",
              "      <td>0</td>\n",
              "      <td>1</td>\n",
              "      <td>0</td>\n",
              "      <td>0</td>\n",
              "      <td>0</td>\n",
              "      <td>0</td>\n",
              "      <td>0</td>\n",
              "    </tr>\n",
              "    <tr>\n",
              "      <th>313</th>\n",
              "      <td>0</td>\n",
              "      <td>0</td>\n",
              "      <td>1</td>\n",
              "      <td>0</td>\n",
              "      <td>0</td>\n",
              "      <td>0</td>\n",
              "      <td>0</td>\n",
              "    </tr>\n",
              "    <tr>\n",
              "      <th>52726</th>\n",
              "      <td>0</td>\n",
              "      <td>0</td>\n",
              "      <td>0</td>\n",
              "      <td>1</td>\n",
              "      <td>0</td>\n",
              "      <td>0</td>\n",
              "      <td>0</td>\n",
              "    </tr>\n",
              "    <tr>\n",
              "      <th>8558</th>\n",
              "      <td>1</td>\n",
              "      <td>0</td>\n",
              "      <td>0</td>\n",
              "      <td>0</td>\n",
              "      <td>0</td>\n",
              "      <td>0</td>\n",
              "      <td>0</td>\n",
              "    </tr>\n",
              "    <tr>\n",
              "      <th>2559</th>\n",
              "      <td>1</td>\n",
              "      <td>0</td>\n",
              "      <td>0</td>\n",
              "      <td>0</td>\n",
              "      <td>0</td>\n",
              "      <td>0</td>\n",
              "      <td>0</td>\n",
              "    </tr>\n",
              "    <tr>\n",
              "      <th>54735</th>\n",
              "      <td>0</td>\n",
              "      <td>0</td>\n",
              "      <td>0</td>\n",
              "      <td>1</td>\n",
              "      <td>0</td>\n",
              "      <td>0</td>\n",
              "      <td>0</td>\n",
              "    </tr>\n",
              "    <tr>\n",
              "      <th>25763</th>\n",
              "      <td>0</td>\n",
              "      <td>1</td>\n",
              "      <td>0</td>\n",
              "      <td>0</td>\n",
              "      <td>0</td>\n",
              "      <td>0</td>\n",
              "      <td>0</td>\n",
              "    </tr>\n",
              "    <tr>\n",
              "      <th>44540</th>\n",
              "      <td>0</td>\n",
              "      <td>0</td>\n",
              "      <td>0</td>\n",
              "      <td>0</td>\n",
              "      <td>1</td>\n",
              "      <td>0</td>\n",
              "      <td>0</td>\n",
              "    </tr>\n",
              "    <tr>\n",
              "      <th>28603</th>\n",
              "      <td>0</td>\n",
              "      <td>0</td>\n",
              "      <td>1</td>\n",
              "      <td>0</td>\n",
              "      <td>0</td>\n",
              "      <td>0</td>\n",
              "      <td>0</td>\n",
              "    </tr>\n",
              "    <tr>\n",
              "      <th>4372</th>\n",
              "      <td>0</td>\n",
              "      <td>0</td>\n",
              "      <td>0</td>\n",
              "      <td>0</td>\n",
              "      <td>1</td>\n",
              "      <td>0</td>\n",
              "      <td>0</td>\n",
              "    </tr>\n",
              "    <tr>\n",
              "      <th>30666</th>\n",
              "      <td>1</td>\n",
              "      <td>0</td>\n",
              "      <td>0</td>\n",
              "      <td>0</td>\n",
              "      <td>0</td>\n",
              "      <td>0</td>\n",
              "      <td>0</td>\n",
              "    </tr>\n",
              "    <tr>\n",
              "      <th>6431</th>\n",
              "      <td>0</td>\n",
              "      <td>0</td>\n",
              "      <td>0</td>\n",
              "      <td>0</td>\n",
              "      <td>1</td>\n",
              "      <td>0</td>\n",
              "      <td>0</td>\n",
              "    </tr>\n",
              "    <tr>\n",
              "      <th>57420</th>\n",
              "      <td>0</td>\n",
              "      <td>0</td>\n",
              "      <td>1</td>\n",
              "      <td>0</td>\n",
              "      <td>0</td>\n",
              "      <td>0</td>\n",
              "      <td>0</td>\n",
              "    </tr>\n",
              "    <tr>\n",
              "      <th>1373</th>\n",
              "      <td>1</td>\n",
              "      <td>0</td>\n",
              "      <td>0</td>\n",
              "      <td>0</td>\n",
              "      <td>0</td>\n",
              "      <td>0</td>\n",
              "      <td>0</td>\n",
              "    </tr>\n",
              "    <tr>\n",
              "      <th>2026</th>\n",
              "      <td>1</td>\n",
              "      <td>0</td>\n",
              "      <td>0</td>\n",
              "      <td>0</td>\n",
              "      <td>0</td>\n",
              "      <td>0</td>\n",
              "      <td>0</td>\n",
              "    </tr>\n",
              "    <tr>\n",
              "      <th>58977</th>\n",
              "      <td>0</td>\n",
              "      <td>1</td>\n",
              "      <td>0</td>\n",
              "      <td>0</td>\n",
              "      <td>0</td>\n",
              "      <td>0</td>\n",
              "      <td>0</td>\n",
              "    </tr>\n",
              "    <tr>\n",
              "      <th>41101</th>\n",
              "      <td>1</td>\n",
              "      <td>0</td>\n",
              "      <td>0</td>\n",
              "      <td>0</td>\n",
              "      <td>0</td>\n",
              "      <td>0</td>\n",
              "      <td>0</td>\n",
              "    </tr>\n",
              "    <tr>\n",
              "      <th>10019</th>\n",
              "      <td>1</td>\n",
              "      <td>0</td>\n",
              "      <td>0</td>\n",
              "      <td>0</td>\n",
              "      <td>0</td>\n",
              "      <td>0</td>\n",
              "      <td>0</td>\n",
              "    </tr>\n",
              "  </tbody>\n",
              "</table>\n",
              "</div>"
            ],
            "text/plain": [
              "       extraction_type_class_gravity  ...  extraction_type_class_wind-powered\n",
              "43360                              1  ...                                   0\n",
              "7263                               1  ...                                   0\n",
              "2486                               0  ...                                   0\n",
              "313                                0  ...                                   0\n",
              "52726                              0  ...                                   0\n",
              "8558                               1  ...                                   0\n",
              "2559                               1  ...                                   0\n",
              "54735                              0  ...                                   0\n",
              "25763                              0  ...                                   0\n",
              "44540                              0  ...                                   0\n",
              "28603                              0  ...                                   0\n",
              "4372                               0  ...                                   0\n",
              "30666                              1  ...                                   0\n",
              "6431                               0  ...                                   0\n",
              "57420                              0  ...                                   0\n",
              "1373                               1  ...                                   0\n",
              "2026                               1  ...                                   0\n",
              "58977                              0  ...                                   0\n",
              "41101                              1  ...                                   0\n",
              "10019                              1  ...                                   0\n",
              "\n",
              "[20 rows x 7 columns]"
            ]
          },
          "metadata": {
            "tags": []
          },
          "execution_count": 33
        }
      ]
    },
    {
      "cell_type": "markdown",
      "metadata": {
        "colab_type": "text",
        "id": "1Ql9Qmw3sNJ7"
      },
      "source": [
        "#### One-Hot Encoding, Logistic Regression, Validation Accuracy"
      ]
    },
    {
      "cell_type": "code",
      "metadata": {
        "colab_type": "code",
        "id": "mT4A-oDGpOss",
        "colab": {
          "base_uri": "https://localhost:8080/",
          "height": 34
        },
        "outputId": "0c2f498a-b3c6-4373-8bde-31aae857016c"
      },
      "source": [
        "from sklearn.linear_model import LogisticRegressionCV\n",
        "from sklearn.preprocessing import StandardScaler\n",
        "\n",
        "lr = make_pipeline(\n",
        "    ce.OneHotEncoder(use_cat_names=True), \n",
        "    SimpleImputer(), \n",
        "    StandardScaler(), \n",
        "    LogisticRegressionCV(multi_class='auto', solver='lbfgs', cv=5, n_jobs=-1)\n",
        ")\n",
        "\n",
        "lr.fit(X_train[[feature]], y_train)\n",
        "score = lr.score(X_val[[feature]], y_val)\n",
        "print('Logistic Regression, Validation Accuracy', score)"
      ],
      "execution_count": 34,
      "outputs": [
        {
          "output_type": "stream",
          "text": [
            "Logistic Regression, Validation Accuracy 0.6202861952861953\n"
          ],
          "name": "stdout"
        }
      ]
    },
    {
      "cell_type": "markdown",
      "metadata": {
        "colab_type": "text",
        "id": "EbH6wivpsRuV"
      },
      "source": [
        "#### One-Hot Encoding, Decision Tree, Validation Accuracy"
      ]
    },
    {
      "cell_type": "code",
      "metadata": {
        "colab_type": "code",
        "id": "b6KUluFOqIdK",
        "colab": {
          "base_uri": "https://localhost:8080/",
          "height": 34
        },
        "outputId": "e666581f-ca9c-47c0-ce8e-fdb3f622ec83"
      },
      "source": [
        "from sklearn.tree import DecisionTreeClassifier\n",
        "\n",
        "dt = make_pipeline(\n",
        "    ce.OneHotEncoder(use_cat_names=True), \n",
        "    SimpleImputer(), \n",
        "    DecisionTreeClassifier(random_state=42)\n",
        ")\n",
        "\n",
        "dt.fit(X_train[[feature]], y_train)\n",
        "score = dt.score(X_val[[feature]], y_val)\n",
        "print('Decision Tree, Validation Accuracy', score)"
      ],
      "execution_count": 35,
      "outputs": [
        {
          "output_type": "stream",
          "text": [
            "Decision Tree, Validation Accuracy 0.6202861952861953\n"
          ],
          "name": "stdout"
        }
      ]
    },
    {
      "cell_type": "markdown",
      "metadata": {
        "colab_type": "text",
        "id": "8yg11_gTsUu6"
      },
      "source": [
        "#### One-Hot Encoding, Logistic Regression, Model Interpretation"
      ]
    },
    {
      "cell_type": "code",
      "metadata": {
        "colab_type": "code",
        "id": "IxHwXGRornNI",
        "colab": {
          "base_uri": "https://localhost:8080/",
          "height": 265
        },
        "outputId": "e0da5b14-6313-4e37-efa5-054b56b19e29"
      },
      "source": [
        "model = lr.named_steps['logisticregressioncv']\n",
        "encoder = lr.named_steps['onehotencoder']\n",
        "encoded_columns = encoder.transform(X_val[[feature]]).columns\n",
        "coefficients = pd.Series(model.coef_[0], encoded_columns)\n",
        "coefficients.sort_values().plot.barh(color='grey');"
      ],
      "execution_count": 36,
      "outputs": [
        {
          "output_type": "display_data",
          "data": {
            "image/png": "[encoded data removed]",
            "text/plain": [
              "<Figure size 432x288 with 1 Axes>"
            ]
          },
          "metadata": {
            "tags": [],
            "needs_background": "light"
          }
        }
      ]
    },
    {
      "cell_type": "markdown",
      "metadata": {
        "colab_type": "text",
        "id": "0REZ8HdpsccR"
      },
      "source": [
        "#### One-Hot Encoding, Decision Tree, Model Interpretation"
      ]
    },
    {
      "cell_type": "code",
      "metadata": {
        "colab_type": "code",
        "id": "gV-grmYKpDp9",
        "colab": {
          "base_uri": "https://localhost:8080/",
          "height": 934
        },
        "outputId": "e88e8059-d04f-4356-fbd1-1794637f388e"
      },
      "source": [
        "# Plot tree\n",
        "# https://scikit-learn.org/stable/modules/generated/sklearn.tree.export_graphviz.html\n",
        "import graphviz\n",
        "from sklearn.tree import export_graphviz\n",
        "\n",
        "model = dt.named_steps['decisiontreeclassifier']\n",
        "encoder = dt.named_steps['onehotencoder']\n",
        "encoded_columns = encoder.transform(X_val[[feature]]).columns\n",
        "\n",
        "dot_data = export_graphviz(model, \n",
        "                           out_file=None, \n",
        "                           max_depth=7, \n",
        "                           feature_names=encoded_columns,\n",
        "                           class_names=model.classes_, \n",
        "                           impurity=False, \n",
        "                           filled=True, \n",
        "                           proportion=True, \n",
        "                           rounded=True)   \n",
        "display(graphviz.Source(dot_data))"
      ],
      "execution_count": 37,
      "outputs": [
        {
          "output_type": "display_data",
          "data": {
            "text/plain": [
              "<graphviz.files.Source at 0x7fa14dd171d0>"
            ],
            "image/svg+xml": "<?xml version=\"1.0\" encoding=\"UTF-8\" standalone=\"no\"?>\n<!DOCTYPE svg PUBLIC \"-//W3C//DTD SVG 1.1//EN\"\n \"http://www.w3.org/Graphics/SVG/1.1/DTD/svg11.dtd\">\n<!-- Generated by graphviz version 2.40.1 (20161225.0304)\n -->\n<!-- Title: Tree Pages: 1 -->\n<svg width=\"1067pt\" height=\"685pt\"\n viewBox=\"0.00 0.00 1067.00 685.00\" xmlns=\"http://www.w3.org/2000/svg\" xmlns:xlink=\"http://www.w3.org/1999/xlink\">\n<g id=\"graph0\" class=\"graph\" transform=\"scale(1 1) rotate(0) translate(4 681)\">\n<title>Tree</title>\n<polygon fill=\"#ffffff\" stroke=\"transparent\" points=\"-4,4 -4,-681 1063,-681 1063,4 -4,4\"/>\n<!-- 0 -->\n<g id=\"node1\" class=\"node\">\n<title>0</title>\n<path fill=\"#f8decc\" stroke=\"#000000\" d=\"M944.5,-677C944.5,-677 725.5,-677 725.5,-677 719.5,-677 713.5,-671 713.5,-665 713.5,-665 713.5,-621 713.5,-621 713.5,-615 719.5,-609 725.5,-609 725.5,-609 944.5,-609 944.5,-609 950.5,-609 956.5,-615 956.5,-621 956.5,-621 956.5,-665 956.5,-665 956.5,-671 950.5,-677 944.5,-677\"/>\n<text text-anchor=\"middle\" x=\"835\" y=\"-661.8\" font-family=\"Helvetica,sans-Serif\" font-size=\"14.00\" fill=\"#000000\">extraction_type_class_other &lt;= 0.5</text>\n<text text-anchor=\"middle\" x=\"835\" y=\"-646.8\" font-family=\"Helvetica,sans-Serif\" font-size=\"14.00\" fill=\"#000000\">samples = 100.0%</text>\n<text text-anchor=\"middle\" x=\"835\" y=\"-631.8\" font-family=\"Helvetica,sans-Serif\" font-size=\"14.00\" fill=\"#000000\">value = [0.543, 0.073, 0.384]</text>\n<text text-anchor=\"middle\" x=\"835\" y=\"-616.8\" font-family=\"Helvetica,sans-Serif\" font-size=\"14.00\" fill=\"#000000\">class = functional</text>\n</g>\n<!-- 1 -->\n<g id=\"node2\" class=\"node\">\n<title>1</title>\n<path fill=\"#f5ceb2\" stroke=\"#000000\" d=\"M837,-573C837,-573 577,-573 577,-573 571,-573 565,-567 565,-561 565,-561 565,-517 565,-517 565,-511 571,-505 577,-505 577,-505 837,-505 837,-505 843,-505 849,-511 849,-517 849,-517 849,-561 849,-561 849,-567 843,-573 837,-573\"/>\n<text text-anchor=\"middle\" x=\"707\" y=\"-557.8\" font-family=\"Helvetica,sans-Serif\" font-size=\"14.00\" fill=\"#000000\">extraction_type_class_motorpump &lt;= 0.5</text>\n<text text-anchor=\"middle\" x=\"707\" y=\"-542.8\" font-family=\"Helvetica,sans-Serif\" font-size=\"14.00\" fill=\"#000000\">samples = 89.1%</text>\n<text text-anchor=\"middle\" x=\"707\" y=\"-527.8\" font-family=\"Helvetica,sans-Serif\" font-size=\"14.00\" fill=\"#000000\">value = [0.59, 0.078, 0.332]</text>\n<text text-anchor=\"middle\" x=\"707\" y=\"-512.8\" font-family=\"Helvetica,sans-Serif\" font-size=\"14.00\" fill=\"#000000\">class = functional</text>\n</g>\n<!-- 0&#45;&gt;1 -->\n<g id=\"edge1\" class=\"edge\">\n<title>0&#45;&gt;1</title>\n<path fill=\"none\" stroke=\"#000000\" d=\"M793.088,-608.9465C781.485,-599.519 768.7779,-589.1946 756.7741,-579.4415\"/>\n<polygon fill=\"#000000\" stroke=\"#000000\" points=\"758.9744,-576.7196 749.0061,-573.13 754.5602,-582.1524 758.9744,-576.7196\"/>\n<text text-anchor=\"middle\" x=\"751.5786\" y=\"-594.2973\" font-family=\"Helvetica,sans-Serif\" font-size=\"14.00\" fill=\"#000000\">True</text>\n</g>\n<!-- 12 -->\n<g id=\"node13\" class=\"node\">\n<title>12</title>\n<path fill=\"#9d66eb\" stroke=\"#000000\" d=\"M1047,-565.5C1047,-565.5 879,-565.5 879,-565.5 873,-565.5 867,-559.5 867,-553.5 867,-553.5 867,-524.5 867,-524.5 867,-518.5 873,-512.5 879,-512.5 879,-512.5 1047,-512.5 1047,-512.5 1053,-512.5 1059,-518.5 1059,-524.5 1059,-524.5 1059,-553.5 1059,-553.5 1059,-559.5 1053,-565.5 1047,-565.5\"/>\n<text text-anchor=\"middle\" x=\"963\" y=\"-550.3\" font-family=\"Helvetica,sans-Serif\" font-size=\"14.00\" fill=\"#000000\">samples = 10.9%</text>\n<text text-anchor=\"middle\" x=\"963\" y=\"-535.3\" font-family=\"Helvetica,sans-Serif\" font-size=\"14.00\" fill=\"#000000\">value = [0.159, 0.031, 0.81]</text>\n<text text-anchor=\"middle\" x=\"963\" y=\"-520.3\" font-family=\"Helvetica,sans-Serif\" font-size=\"14.00\" fill=\"#000000\">class = non functional</text>\n</g>\n<!-- 0&#45;&gt;12 -->\n<g id=\"edge12\" class=\"edge\">\n<title>0&#45;&gt;12</title>\n<path fill=\"none\" stroke=\"#000000\" d=\"M876.912,-608.9465C891.5533,-597.0504 907.9526,-583.726 922.4785,-571.9237\"/>\n<polygon fill=\"#000000\" stroke=\"#000000\" points=\"924.7786,-574.5645 930.3327,-565.5422 920.3645,-569.1317 924.7786,-574.5645\"/>\n<text text-anchor=\"middle\" x=\"927.7602\" y=\"-586.7095\" font-family=\"Helvetica,sans-Serif\" font-size=\"14.00\" fill=\"#000000\">False</text>\n</g>\n<!-- 2 -->\n<g id=\"node3\" class=\"node\">\n<title>2</title>\n<path fill=\"#f4caac\" stroke=\"#000000\" d=\"M708.5,-469C708.5,-469 443.5,-469 443.5,-469 437.5,-469 431.5,-463 431.5,-457 431.5,-457 431.5,-413 431.5,-413 431.5,-407 437.5,-401 443.5,-401 443.5,-401 708.5,-401 708.5,-401 714.5,-401 720.5,-407 720.5,-413 720.5,-413 720.5,-457 720.5,-457 720.5,-463 714.5,-469 708.5,-469\"/>\n<text text-anchor=\"middle\" x=\"576\" y=\"-453.8\" font-family=\"Helvetica,sans-Serif\" font-size=\"14.00\" fill=\"#000000\">extraction_type_class_submersible &lt;= 0.5</text>\n<text text-anchor=\"middle\" x=\"576\" y=\"-438.8\" font-family=\"Helvetica,sans-Serif\" font-size=\"14.00\" fill=\"#000000\">samples = 84.1%</text>\n<text text-anchor=\"middle\" x=\"576\" y=\"-423.8\" font-family=\"Helvetica,sans-Serif\" font-size=\"14.00\" fill=\"#000000\">value = [0.603, 0.08, 0.318]</text>\n<text text-anchor=\"middle\" x=\"576\" y=\"-408.8\" font-family=\"Helvetica,sans-Serif\" font-size=\"14.00\" fill=\"#000000\">class = functional</text>\n</g>\n<!-- 1&#45;&gt;2 -->\n<g id=\"edge2\" class=\"edge\">\n<title>1&#45;&gt;2</title>\n<path fill=\"none\" stroke=\"#000000\" d=\"M664.1057,-504.9465C652.2307,-495.519 639.2259,-485.1946 626.9407,-475.4415\"/>\n<polygon fill=\"#000000\" stroke=\"#000000\" points=\"628.9989,-472.6066 618.9907,-469.13 624.6464,-478.089 628.9989,-472.6066\"/>\n</g>\n<!-- 11 -->\n<g id=\"node12\" class=\"node\">\n<title>11</title>\n<path fill=\"#d8c1f7\" stroke=\"#000000\" d=\"M927,-461.5C927,-461.5 751,-461.5 751,-461.5 745,-461.5 739,-455.5 739,-449.5 739,-449.5 739,-420.5 739,-420.5 739,-414.5 745,-408.5 751,-408.5 751,-408.5 927,-408.5 927,-408.5 933,-408.5 939,-414.5 939,-420.5 939,-420.5 939,-449.5 939,-449.5 939,-455.5 933,-461.5 927,-461.5\"/>\n<text text-anchor=\"middle\" x=\"839\" y=\"-446.3\" font-family=\"Helvetica,sans-Serif\" font-size=\"14.00\" fill=\"#000000\">samples = 5.0%</text>\n<text text-anchor=\"middle\" x=\"839\" y=\"-431.3\" font-family=\"Helvetica,sans-Serif\" font-size=\"14.00\" fill=\"#000000\">value = [0.381, 0.045, 0.574]</text>\n<text text-anchor=\"middle\" x=\"839\" y=\"-416.3\" font-family=\"Helvetica,sans-Serif\" font-size=\"14.00\" fill=\"#000000\">class = non functional</text>\n</g>\n<!-- 1&#45;&gt;11 -->\n<g id=\"edge11\" class=\"edge\">\n<title>1&#45;&gt;11</title>\n<path fill=\"none\" stroke=\"#000000\" d=\"M750.2217,-504.9465C765.3206,-493.0504 782.2324,-479.726 797.2122,-467.9237\"/>\n<polygon fill=\"#000000\" stroke=\"#000000\" points=\"799.623,-470.4802 805.3119,-461.5422 795.2909,-464.9817 799.623,-470.4802\"/>\n</g>\n<!-- 3 -->\n<g id=\"node4\" class=\"node\">\n<title>3</title>\n<path fill=\"#f4c7a8\" stroke=\"#000000\" d=\"M568.5,-365C568.5,-365 339.5,-365 339.5,-365 333.5,-365 327.5,-359 327.5,-353 327.5,-353 327.5,-309 327.5,-309 327.5,-303 333.5,-297 339.5,-297 339.5,-297 568.5,-297 568.5,-297 574.5,-297 580.5,-303 580.5,-309 580.5,-309 580.5,-353 580.5,-353 580.5,-359 574.5,-365 568.5,-365\"/>\n<text text-anchor=\"middle\" x=\"454\" y=\"-349.8\" font-family=\"Helvetica,sans-Serif\" font-size=\"14.00\" fill=\"#000000\">extraction_type_class_gravity &lt;= 0.5</text>\n<text text-anchor=\"middle\" x=\"454\" y=\"-334.8\" font-family=\"Helvetica,sans-Serif\" font-size=\"14.00\" fill=\"#000000\">samples = 73.8%</text>\n<text text-anchor=\"middle\" x=\"454\" y=\"-319.8\" font-family=\"Helvetica,sans-Serif\" font-size=\"14.00\" fill=\"#000000\">value = [0.611, 0.085, 0.304]</text>\n<text text-anchor=\"middle\" x=\"454\" y=\"-304.8\" font-family=\"Helvetica,sans-Serif\" font-size=\"14.00\" fill=\"#000000\">class = functional</text>\n</g>\n<!-- 2&#45;&gt;3 -->\n<g id=\"edge3\" class=\"edge\">\n<title>2&#45;&gt;3</title>\n<path fill=\"none\" stroke=\"#000000\" d=\"M536.0526,-400.9465C525.0988,-391.6088 513.1127,-381.3911 501.768,-371.7203\"/>\n<polygon fill=\"#000000\" stroke=\"#000000\" points=\"503.9179,-368.9538 494.0371,-365.13 499.3767,-374.2809 503.9179,-368.9538\"/>\n</g>\n<!-- 10 -->\n<g id=\"node11\" class=\"node\">\n<title>10</title>\n<path fill=\"#f9e4d5\" stroke=\"#000000\" d=\"M787,-357.5C787,-357.5 611,-357.5 611,-357.5 605,-357.5 599,-351.5 599,-345.5 599,-345.5 599,-316.5 599,-316.5 599,-310.5 605,-304.5 611,-304.5 611,-304.5 787,-304.5 787,-304.5 793,-304.5 799,-310.5 799,-316.5 799,-316.5 799,-345.5 799,-345.5 799,-351.5 793,-357.5 787,-357.5\"/>\n<text text-anchor=\"middle\" x=\"699\" y=\"-342.3\" font-family=\"Helvetica,sans-Serif\" font-size=\"14.00\" fill=\"#000000\">samples = 10.3%</text>\n<text text-anchor=\"middle\" x=\"699\" y=\"-327.3\" font-family=\"Helvetica,sans-Serif\" font-size=\"14.00\" fill=\"#000000\">value = [0.541, 0.042, 0.416]</text>\n<text text-anchor=\"middle\" x=\"699\" y=\"-312.3\" font-family=\"Helvetica,sans-Serif\" font-size=\"14.00\" fill=\"#000000\">class = functional</text>\n</g>\n<!-- 2&#45;&gt;10 -->\n<g id=\"edge10\" class=\"edge\">\n<title>2&#45;&gt;10</title>\n<path fill=\"none\" stroke=\"#000000\" d=\"M616.2748,-400.9465C630.2139,-389.1606 645.8112,-375.9726 659.6732,-364.2519\"/>\n<polygon fill=\"#000000\" stroke=\"#000000\" points=\"662.2324,-366.6715 667.6088,-357.5422 657.7127,-361.3262 662.2324,-366.6715\"/>\n</g>\n<!-- 4 -->\n<g id=\"node5\" class=\"node\">\n<title>4</title>\n<path fill=\"#f3c5a4\" stroke=\"#000000\" d=\"M458.5,-261C458.5,-261 181.5,-261 181.5,-261 175.5,-261 169.5,-255 169.5,-249 169.5,-249 169.5,-205 169.5,-205 169.5,-199 175.5,-193 181.5,-193 181.5,-193 458.5,-193 458.5,-193 464.5,-193 470.5,-199 470.5,-205 470.5,-205 470.5,-249 470.5,-249 470.5,-255 464.5,-261 458.5,-261\"/>\n<text text-anchor=\"middle\" x=\"320\" y=\"-245.8\" font-family=\"Helvetica,sans-Serif\" font-size=\"14.00\" fill=\"#000000\">extraction_type_class_wind&#45;powered &lt;= 0.5</text>\n<text text-anchor=\"middle\" x=\"320\" y=\"-230.8\" font-family=\"Helvetica,sans-Serif\" font-size=\"14.00\" fill=\"#000000\">samples = 28.7%</text>\n<text text-anchor=\"middle\" x=\"320\" y=\"-215.8\" font-family=\"Helvetica,sans-Serif\" font-size=\"14.00\" fill=\"#000000\">value = [0.629, 0.059, 0.311]</text>\n<text text-anchor=\"middle\" x=\"320\" y=\"-200.8\" font-family=\"Helvetica,sans-Serif\" font-size=\"14.00\" fill=\"#000000\">class = functional</text>\n</g>\n<!-- 3&#45;&gt;4 -->\n<g id=\"edge4\" class=\"edge\">\n<title>3&#45;&gt;4</title>\n<path fill=\"none\" stroke=\"#000000\" d=\"M410.1234,-296.9465C397.9765,-287.519 384.6738,-277.1946 372.1073,-267.4415\"/>\n<polygon fill=\"#000000\" stroke=\"#000000\" points=\"374.021,-264.4963 363.9752,-261.13 369.7291,-270.0262 374.021,-264.4963\"/>\n</g>\n<!-- 9 -->\n<g id=\"node10\" class=\"node\">\n<title>9</title>\n<path fill=\"#f4c9aa\" stroke=\"#000000\" d=\"M677,-253.5C677,-253.5 501,-253.5 501,-253.5 495,-253.5 489,-247.5 489,-241.5 489,-241.5 489,-212.5 489,-212.5 489,-206.5 495,-200.5 501,-200.5 501,-200.5 677,-200.5 677,-200.5 683,-200.5 689,-206.5 689,-212.5 689,-212.5 689,-241.5 689,-241.5 689,-247.5 683,-253.5 677,-253.5\"/>\n<text text-anchor=\"middle\" x=\"589\" y=\"-238.3\" font-family=\"Helvetica,sans-Serif\" font-size=\"14.00\" fill=\"#000000\">samples = 45.1%</text>\n<text text-anchor=\"middle\" x=\"589\" y=\"-223.3\" font-family=\"Helvetica,sans-Serif\" font-size=\"14.00\" fill=\"#000000\">value = [0.599, 0.101, 0.299]</text>\n<text text-anchor=\"middle\" x=\"589\" y=\"-208.3\" font-family=\"Helvetica,sans-Serif\" font-size=\"14.00\" fill=\"#000000\">class = functional</text>\n</g>\n<!-- 3&#45;&gt;9 -->\n<g id=\"edge9\" class=\"edge\">\n<title>3&#45;&gt;9</title>\n<path fill=\"none\" stroke=\"#000000\" d=\"M498.204,-296.9465C513.6461,-285.0504 530.9422,-271.726 546.2625,-259.9237\"/>\n<polygon fill=\"#000000\" stroke=\"#000000\" points=\"548.7603,-262.4176 554.5462,-253.5422 544.4883,-256.8723 548.7603,-262.4176\"/>\n</g>\n<!-- 5 -->\n<g id=\"node6\" class=\"node\">\n<title>5</title>\n<path fill=\"#f3c4a3\" stroke=\"#000000\" d=\"M319,-157C319,-157 63,-157 63,-157 57,-157 51,-151 51,-145 51,-145 51,-101 51,-101 51,-95 57,-89 63,-89 63,-89 319,-89 319,-89 325,-89 331,-95 331,-101 331,-101 331,-145 331,-145 331,-151 325,-157 319,-157\"/>\n<text text-anchor=\"middle\" x=\"191\" y=\"-141.8\" font-family=\"Helvetica,sans-Serif\" font-size=\"14.00\" fill=\"#000000\">extraction_type_class_rope pump &lt;= 0.5</text>\n<text text-anchor=\"middle\" x=\"191\" y=\"-126.8\" font-family=\"Helvetica,sans-Serif\" font-size=\"14.00\" fill=\"#000000\">samples = 28.5%</text>\n<text text-anchor=\"middle\" x=\"191\" y=\"-111.8\" font-family=\"Helvetica,sans-Serif\" font-size=\"14.00\" fill=\"#000000\">value = [0.631, 0.059, 0.31]</text>\n<text text-anchor=\"middle\" x=\"191\" y=\"-96.8\" font-family=\"Helvetica,sans-Serif\" font-size=\"14.00\" fill=\"#000000\">class = functional</text>\n</g>\n<!-- 4&#45;&gt;5 -->\n<g id=\"edge5\" class=\"edge\">\n<title>4&#45;&gt;5</title>\n<path fill=\"none\" stroke=\"#000000\" d=\"M277.7606,-192.9465C266.0669,-183.519 253.2606,-173.1946 241.163,-163.4415\"/>\n<polygon fill=\"#000000\" stroke=\"#000000\" points=\"243.3162,-160.6816 233.3343,-157.13 238.9227,-166.1312 243.3162,-160.6816\"/>\n</g>\n<!-- 8 -->\n<g id=\"node9\" class=\"node\">\n<title>8</title>\n<path fill=\"#f8f3fd\" stroke=\"#000000\" d=\"M537,-149.5C537,-149.5 361,-149.5 361,-149.5 355,-149.5 349,-143.5 349,-137.5 349,-137.5 349,-108.5 349,-108.5 349,-102.5 355,-96.5 361,-96.5 361,-96.5 537,-96.5 537,-96.5 543,-96.5 549,-102.5 549,-108.5 549,-108.5 549,-137.5 549,-137.5 549,-143.5 543,-149.5 537,-149.5\"/>\n<text text-anchor=\"middle\" x=\"449\" y=\"-134.3\" font-family=\"Helvetica,sans-Serif\" font-size=\"14.00\" fill=\"#000000\">samples = 0.2%</text>\n<text text-anchor=\"middle\" x=\"449\" y=\"-119.3\" font-family=\"Helvetica,sans-Serif\" font-size=\"14.00\" fill=\"#000000\">value = [0.452, 0.065, 0.484]</text>\n<text text-anchor=\"middle\" x=\"449\" y=\"-104.3\" font-family=\"Helvetica,sans-Serif\" font-size=\"14.00\" fill=\"#000000\">class = non functional</text>\n</g>\n<!-- 4&#45;&gt;8 -->\n<g id=\"edge8\" class=\"edge\">\n<title>4&#45;&gt;8</title>\n<path fill=\"none\" stroke=\"#000000\" d=\"M362.2394,-192.9465C376.9952,-181.0504 393.5225,-167.726 408.162,-155.9237\"/>\n<polygon fill=\"#000000\" stroke=\"#000000\" points=\"410.4891,-158.5433 416.0775,-149.5422 406.0957,-153.0938 410.4891,-158.5433\"/>\n</g>\n<!-- 6 -->\n<g id=\"node7\" class=\"node\">\n<title>6</title>\n<path fill=\"#f3c5a3\" stroke=\"#000000\" d=\"M164,-53C164,-53 12,-53 12,-53 6,-53 0,-47 0,-41 0,-41 0,-12 0,-12 0,-6 6,0 12,0 12,0 164,0 164,0 170,0 176,-6 176,-12 176,-12 176,-41 176,-41 176,-47 170,-53 164,-53\"/>\n<text text-anchor=\"middle\" x=\"88\" y=\"-37.8\" font-family=\"Helvetica,sans-Serif\" font-size=\"14.00\" fill=\"#000000\">samples = 27.7%</text>\n<text text-anchor=\"middle\" x=\"88\" y=\"-22.8\" font-family=\"Helvetica,sans-Serif\" font-size=\"14.00\" fill=\"#000000\">value = [0.63, 0.06, 0.31]</text>\n<text text-anchor=\"middle\" x=\"88\" y=\"-7.8\" font-family=\"Helvetica,sans-Serif\" font-size=\"14.00\" fill=\"#000000\">class = functional</text>\n</g>\n<!-- 5&#45;&gt;6 -->\n<g id=\"edge6\" class=\"edge\">\n<title>5&#45;&gt;6</title>\n<path fill=\"none\" stroke=\"#000000\" d=\"M154.6861,-88.9777C144.7168,-79.6376 133.9138,-69.5163 123.9643,-60.1947\"/>\n<polygon fill=\"#000000\" stroke=\"#000000\" points=\"126.2408,-57.5314 116.5502,-53.2485 121.4548,-62.6397 126.2408,-57.5314\"/>\n</g>\n<!-- 7 -->\n<g id=\"node8\" class=\"node\">\n<title>7</title>\n<path fill=\"#f2bf9b\" stroke=\"#000000\" d=\"M382,-53C382,-53 206,-53 206,-53 200,-53 194,-47 194,-41 194,-41 194,-12 194,-12 194,-6 200,0 206,0 206,0 382,0 382,0 388,0 394,-6 394,-12 394,-12 394,-41 394,-41 394,-47 388,-53 382,-53\"/>\n<text text-anchor=\"middle\" x=\"294\" y=\"-37.8\" font-family=\"Helvetica,sans-Serif\" font-size=\"14.00\" fill=\"#000000\">samples = 0.7%</text>\n<text text-anchor=\"middle\" x=\"294\" y=\"-22.8\" font-family=\"Helvetica,sans-Serif\" font-size=\"14.00\" fill=\"#000000\">value = [0.657, 0.037, 0.306]</text>\n<text text-anchor=\"middle\" x=\"294\" y=\"-7.8\" font-family=\"Helvetica,sans-Serif\" font-size=\"14.00\" fill=\"#000000\">class = functional</text>\n</g>\n<!-- 5&#45;&gt;7 -->\n<g id=\"edge7\" class=\"edge\">\n<title>5&#45;&gt;7</title>\n<path fill=\"none\" stroke=\"#000000\" d=\"M227.3139,-88.9777C237.2832,-79.6376 248.0862,-69.5163 258.0357,-60.1947\"/>\n<polygon fill=\"#000000\" stroke=\"#000000\" points=\"260.5452,-62.6397 265.4498,-53.2485 255.7592,-57.5314 260.5452,-62.6397\"/>\n</g>\n</g>\n</svg>\n"
          },
          "metadata": {
            "tags": []
          }
        }
      ]
    },
    {
      "cell_type": "markdown",
      "metadata": {
        "colab_type": "text",
        "id": "QUd6gzcZgLVz"
      },
      "source": [
        "### [Ordinal Encoding](https://contrib.scikit-learn.org/category_encoders/ordinal.html)\n",
        "\n",
        "> Ordinal encoding uses a single column of integers to represent the classes. An optional mapping dict can be passed in; in this case, we use the knowledge that there is some true order to the classes themselves. Otherwise, the classes are assumed to have no true order and integers are selected at random."
      ]
    },
    {
      "cell_type": "code",
      "metadata": {
        "colab_type": "code",
        "id": "CnBz2RbwgLVz",
        "colab": {
          "base_uri": "https://localhost:8080/",
          "height": 680
        },
        "outputId": "20203f90-e75c-4d0d-b00a-59c58063e546"
      },
      "source": [
        "encoder = ce.OrdinalEncoder()\n",
        "encoded = encoder.fit_transform(X_train[[feature]])\n",
        "print(f'1 column, {encoded[feature].nunique()} unique values')\n",
        "encoded.head(20)"
      ],
      "execution_count": 38,
      "outputs": [
        {
          "output_type": "stream",
          "text": [
            "1 column, 7 unique values\n"
          ],
          "name": "stdout"
        },
        {
          "output_type": "execute_result",
          "data": {
            "text/html": [
              "<div>\n",
              "<style scoped>\n",
              "    .dataframe tbody tr th:only-of-type {\n",
              "        vertical-align: middle;\n",
              "    }\n",
              "\n",
              "    .dataframe tbody tr th {\n",
              "        vertical-align: top;\n",
              "    }\n",
              "\n",
              "    .dataframe thead th {\n",
              "        text-align: right;\n",
              "    }\n",
              "</style>\n",
              "<table border=\"1\" class=\"dataframe\">\n",
              "  <thead>\n",
              "    <tr style=\"text-align: right;\">\n",
              "      <th></th>\n",
              "      <th>extraction_type_class</th>\n",
              "    </tr>\n",
              "  </thead>\n",
              "  <tbody>\n",
              "    <tr>\n",
              "      <th>43360</th>\n",
              "      <td>1</td>\n",
              "    </tr>\n",
              "    <tr>\n",
              "      <th>7263</th>\n",
              "      <td>1</td>\n",
              "    </tr>\n",
              "    <tr>\n",
              "      <th>2486</th>\n",
              "      <td>2</td>\n",
              "    </tr>\n",
              "    <tr>\n",
              "      <th>313</th>\n",
              "      <td>3</td>\n",
              "    </tr>\n",
              "    <tr>\n",
              "      <th>52726</th>\n",
              "      <td>4</td>\n",
              "    </tr>\n",
              "    <tr>\n",
              "      <th>8558</th>\n",
              "      <td>1</td>\n",
              "    </tr>\n",
              "    <tr>\n",
              "      <th>2559</th>\n",
              "      <td>1</td>\n",
              "    </tr>\n",
              "    <tr>\n",
              "      <th>54735</th>\n",
              "      <td>4</td>\n",
              "    </tr>\n",
              "    <tr>\n",
              "      <th>25763</th>\n",
              "      <td>2</td>\n",
              "    </tr>\n",
              "    <tr>\n",
              "      <th>44540</th>\n",
              "      <td>5</td>\n",
              "    </tr>\n",
              "    <tr>\n",
              "      <th>28603</th>\n",
              "      <td>3</td>\n",
              "    </tr>\n",
              "    <tr>\n",
              "      <th>4372</th>\n",
              "      <td>5</td>\n",
              "    </tr>\n",
              "    <tr>\n",
              "      <th>30666</th>\n",
              "      <td>1</td>\n",
              "    </tr>\n",
              "    <tr>\n",
              "      <th>6431</th>\n",
              "      <td>5</td>\n",
              "    </tr>\n",
              "    <tr>\n",
              "      <th>57420</th>\n",
              "      <td>3</td>\n",
              "    </tr>\n",
              "    <tr>\n",
              "      <th>1373</th>\n",
              "      <td>1</td>\n",
              "    </tr>\n",
              "    <tr>\n",
              "      <th>2026</th>\n",
              "      <td>1</td>\n",
              "    </tr>\n",
              "    <tr>\n",
              "      <th>58977</th>\n",
              "      <td>2</td>\n",
              "    </tr>\n",
              "    <tr>\n",
              "      <th>41101</th>\n",
              "      <td>1</td>\n",
              "    </tr>\n",
              "    <tr>\n",
              "      <th>10019</th>\n",
              "      <td>1</td>\n",
              "    </tr>\n",
              "  </tbody>\n",
              "</table>\n",
              "</div>"
            ],
            "text/plain": [
              "       extraction_type_class\n",
              "43360                      1\n",
              "7263                       1\n",
              "2486                       2\n",
              "313                        3\n",
              "52726                      4\n",
              "8558                       1\n",
              "2559                       1\n",
              "54735                      4\n",
              "25763                      2\n",
              "44540                      5\n",
              "28603                      3\n",
              "4372                       5\n",
              "30666                      1\n",
              "6431                       5\n",
              "57420                      3\n",
              "1373                       1\n",
              "2026                       1\n",
              "58977                      2\n",
              "41101                      1\n",
              "10019                      1"
            ]
          },
          "metadata": {
            "tags": []
          },
          "execution_count": 38
        }
      ]
    },
    {
      "cell_type": "markdown",
      "metadata": {
        "colab_type": "text",
        "id": "Nd-ZWprasqUM"
      },
      "source": [
        "#### Ordinal Encoding, Logistic Regression, Validation Accuracy"
      ]
    },
    {
      "cell_type": "code",
      "metadata": {
        "colab_type": "code",
        "id": "GJ1YpwjvrhfL",
        "colab": {
          "base_uri": "https://localhost:8080/",
          "height": 34
        },
        "outputId": "520430ed-780a-4dd3-afd8-47ecf1838494"
      },
      "source": [
        "lr = make_pipeline(\n",
        "    ce.OrdinalEncoder(), \n",
        "    SimpleImputer(), \n",
        "    StandardScaler(), \n",
        "    LogisticRegressionCV(multi_class='auto', solver='lbfgs', cv=5, n_jobs=-1)\n",
        ")\n",
        "\n",
        "lr.fit(X_train[[feature]], y_train)\n",
        "score = lr.score(X_val[[feature]], y_val)\n",
        "print('Logistic Regression, Validation Accuracy', score)"
      ],
      "execution_count": 39,
      "outputs": [
        {
          "output_type": "stream",
          "text": [
            "Logistic Regression, Validation Accuracy 0.5417508417508418\n"
          ],
          "name": "stdout"
        }
      ]
    },
    {
      "cell_type": "markdown",
      "metadata": {
        "colab_type": "text",
        "id": "9lO_R3SksuHs"
      },
      "source": [
        "#### Ordinal Encoding, Decision Tree, Validation Accuracy"
      ]
    },
    {
      "cell_type": "code",
      "metadata": {
        "colab_type": "code",
        "id": "aOELD_roriVI",
        "colab": {
          "base_uri": "https://localhost:8080/",
          "height": 34
        },
        "outputId": "acc6bf14-a36b-4116-b707-9094b7579157"
      },
      "source": [
        "dt = make_pipeline(\n",
        "    ce.OrdinalEncoder(), \n",
        "    SimpleImputer(), \n",
        "    DecisionTreeClassifier(random_state=42)\n",
        ")\n",
        "\n",
        "dt.fit(X_train[[feature]], y_train)\n",
        "score = dt.score(X_val[[feature]], y_val)\n",
        "print('Decision Tree, Validation Accuracy', score)"
      ],
      "execution_count": 40,
      "outputs": [
        {
          "output_type": "stream",
          "text": [
            "Decision Tree, Validation Accuracy 0.6202861952861953\n"
          ],
          "name": "stdout"
        }
      ]
    },
    {
      "cell_type": "markdown",
      "metadata": {
        "colab_type": "text",
        "id": "7V2zHjiwswTg"
      },
      "source": [
        "#### Ordinal Encoding, Logistic Regression, Model Interpretation"
      ]
    },
    {
      "cell_type": "code",
      "metadata": {
        "colab_type": "code",
        "id": "S9UPYPois8QR",
        "colab": {
          "base_uri": "https://localhost:8080/",
          "height": 265
        },
        "outputId": "19bfec79-a94b-4584-fb70-b8c9069421a0"
      },
      "source": [
        "model = lr.named_steps['logisticregressioncv']\n",
        "encoder = lr.named_steps['ordinalencoder']\n",
        "encoded_columns = encoder.transform(X_val[[feature]]).columns\n",
        "coefficients = pd.Series(model.coef_[0], encoded_columns)\n",
        "coefficients.sort_values().plot.barh(color='grey');"
      ],
      "execution_count": 41,
      "outputs": [
        {
          "output_type": "display_data",
          "data": {
            "image/png": "[encoded data removed]",
            "text/plain": [
              "<Figure size 432x288 with 1 Axes>"
            ]
          },
          "metadata": {
            "tags": [],
            "needs_background": "light"
          }
        }
      ]
    },
    {
      "cell_type": "markdown",
      "metadata": {
        "colab_type": "text",
        "id": "MvmmvE8fsymh"
      },
      "source": [
        "#### Ordinal Encoding, Decision Tree, Model Interpretation"
      ]
    },
    {
      "cell_type": "code",
      "metadata": {
        "colab_type": "code",
        "id": "jCvUu4Oms88b",
        "colab": {
          "base_uri": "https://localhost:8080/",
          "height": 796
        },
        "outputId": "dc058566-b521-4df7-ccbd-27f2291096be"
      },
      "source": [
        "model = dt.named_steps['decisiontreeclassifier']\n",
        "encoder = dt.named_steps['ordinalencoder']\n",
        "encoded_columns = encoder.transform(X_val[[feature]]).columns\n",
        "\n",
        "dot_data = export_graphviz(model, \n",
        "                           out_file=None, \n",
        "                           max_depth=5, \n",
        "                           feature_names=encoded_columns,\n",
        "                           class_names=model.classes_, \n",
        "                           impurity=False, \n",
        "                           filled=True, \n",
        "                           proportion=True, \n",
        "                           rounded=True)   \n",
        "display(graphviz.Source(dot_data))"
      ],
      "execution_count": 42,
      "outputs": [
        {
          "output_type": "display_data",
          "data": {
            "text/plain": [
              "<graphviz.files.Source at 0x7fa14f7130b8>"
            ],
            "image/svg+xml": "<?xml version=\"1.0\" encoding=\"UTF-8\" standalone=\"no\"?>\n<!DOCTYPE svg PUBLIC \"-//W3C//DTD SVG 1.1//EN\"\n \"http://www.w3.org/Graphics/SVG/1.1/DTD/svg11.dtd\">\n<!-- Generated by graphviz version 2.40.1 (20161225.0304)\n -->\n<!-- Title: Tree Pages: 1 -->\n<svg width=\"1167pt\" height=\"581pt\"\n viewBox=\"0.00 0.00 1167.00 581.00\" xmlns=\"http://www.w3.org/2000/svg\" xmlns:xlink=\"http://www.w3.org/1999/xlink\">\n<g id=\"graph0\" class=\"graph\" transform=\"scale(1 1) rotate(0) translate(4 577)\">\n<title>Tree</title>\n<polygon fill=\"#ffffff\" stroke=\"transparent\" points=\"-4,4 -4,-577 1163,-577 1163,4 -4,4\"/>\n<!-- 0 -->\n<g id=\"node1\" class=\"node\">\n<title>0</title>\n<path fill=\"#f8decc\" stroke=\"#000000\" d=\"M500,-573C500,-573 322,-573 322,-573 316,-573 310,-567 310,-561 310,-561 310,-517 310,-517 310,-511 316,-505 322,-505 322,-505 500,-505 500,-505 506,-505 512,-511 512,-517 512,-517 512,-561 512,-561 512,-567 506,-573 500,-573\"/>\n<text text-anchor=\"middle\" x=\"411\" y=\"-557.8\" font-family=\"Helvetica,sans-Serif\" font-size=\"14.00\" fill=\"#000000\">extraction_type_class &lt;= 2.5</text>\n<text text-anchor=\"middle\" x=\"411\" y=\"-542.8\" font-family=\"Helvetica,sans-Serif\" font-size=\"14.00\" fill=\"#000000\">samples = 100.0%</text>\n<text text-anchor=\"middle\" x=\"411\" y=\"-527.8\" font-family=\"Helvetica,sans-Serif\" font-size=\"14.00\" fill=\"#000000\">value = [0.543, 0.073, 0.384]</text>\n<text text-anchor=\"middle\" x=\"411\" y=\"-512.8\" font-family=\"Helvetica,sans-Serif\" font-size=\"14.00\" fill=\"#000000\">class = functional</text>\n</g>\n<!-- 1 -->\n<g id=\"node2\" class=\"node\">\n<title>1</title>\n<path fill=\"#f4c7a8\" stroke=\"#000000\" d=\"M390,-469C390,-469 212,-469 212,-469 206,-469 200,-463 200,-457 200,-457 200,-413 200,-413 200,-407 206,-401 212,-401 212,-401 390,-401 390,-401 396,-401 402,-407 402,-413 402,-413 402,-457 402,-457 402,-463 396,-469 390,-469\"/>\n<text text-anchor=\"middle\" x=\"301\" y=\"-453.8\" font-family=\"Helvetica,sans-Serif\" font-size=\"14.00\" fill=\"#000000\">extraction_type_class &lt;= 1.5</text>\n<text text-anchor=\"middle\" x=\"301\" y=\"-438.8\" font-family=\"Helvetica,sans-Serif\" font-size=\"14.00\" fill=\"#000000\">samples = 72.9%</text>\n<text text-anchor=\"middle\" x=\"301\" y=\"-423.8\" font-family=\"Helvetica,sans-Serif\" font-size=\"14.00\" fill=\"#000000\">value = [0.611, 0.085, 0.304]</text>\n<text text-anchor=\"middle\" x=\"301\" y=\"-408.8\" font-family=\"Helvetica,sans-Serif\" font-size=\"14.00\" fill=\"#000000\">class = functional</text>\n</g>\n<!-- 0&#45;&gt;1 -->\n<g id=\"edge1\" class=\"edge\">\n<title>0&#45;&gt;1</title>\n<path fill=\"none\" stroke=\"#000000\" d=\"M374.9819,-504.9465C365.2954,-495.7884 354.7136,-485.7838 344.6603,-476.2788\"/>\n<polygon fill=\"#000000\" stroke=\"#000000\" points=\"346.7701,-473.4569 337.099,-469.13 341.961,-478.5434 346.7701,-473.4569\"/>\n<text text-anchor=\"middle\" x=\"337.7997\" y=\"-490.4202\" font-family=\"Helvetica,sans-Serif\" font-size=\"14.00\" fill=\"#000000\">True</text>\n</g>\n<!-- 4 -->\n<g id=\"node5\" class=\"node\">\n<title>4</title>\n<path fill=\"#d0b4f5\" stroke=\"#000000\" d=\"M610,-469C610,-469 432,-469 432,-469 426,-469 420,-463 420,-457 420,-457 420,-413 420,-413 420,-407 426,-401 432,-401 432,-401 610,-401 610,-401 616,-401 622,-407 622,-413 622,-413 622,-457 622,-457 622,-463 616,-469 610,-469\"/>\n<text text-anchor=\"middle\" x=\"521\" y=\"-453.8\" font-family=\"Helvetica,sans-Serif\" font-size=\"14.00\" fill=\"#000000\">extraction_type_class &lt;= 3.5</text>\n<text text-anchor=\"middle\" x=\"521\" y=\"-438.8\" font-family=\"Helvetica,sans-Serif\" font-size=\"14.00\" fill=\"#000000\">samples = 27.1%</text>\n<text text-anchor=\"middle\" x=\"521\" y=\"-423.8\" font-family=\"Helvetica,sans-Serif\" font-size=\"14.00\" fill=\"#000000\">value = [0.361, 0.038, 0.601]</text>\n<text text-anchor=\"middle\" x=\"521\" y=\"-408.8\" font-family=\"Helvetica,sans-Serif\" font-size=\"14.00\" fill=\"#000000\">class = non functional</text>\n</g>\n<!-- 0&#45;&gt;4 -->\n<g id=\"edge4\" class=\"edge\">\n<title>0&#45;&gt;4</title>\n<path fill=\"none\" stroke=\"#000000\" d=\"M447.0181,-504.9465C456.7046,-495.7884 467.2864,-485.7838 477.3397,-476.2788\"/>\n<polygon fill=\"#000000\" stroke=\"#000000\" points=\"480.039,-478.5434 484.901,-469.13 475.2299,-473.4569 480.039,-478.5434\"/>\n<text text-anchor=\"middle\" x=\"484.2003\" y=\"-490.4202\" font-family=\"Helvetica,sans-Serif\" font-size=\"14.00\" fill=\"#000000\">False</text>\n</g>\n<!-- 2 -->\n<g id=\"node3\" class=\"node\">\n<title>2</title>\n<path fill=\"#f4c9aa\" stroke=\"#000000\" d=\"M188,-357.5C188,-357.5 12,-357.5 12,-357.5 6,-357.5 0,-351.5 0,-345.5 0,-345.5 0,-316.5 0,-316.5 0,-310.5 6,-304.5 12,-304.5 12,-304.5 188,-304.5 188,-304.5 194,-304.5 200,-310.5 200,-316.5 200,-316.5 200,-345.5 200,-345.5 200,-351.5 194,-357.5 188,-357.5\"/>\n<text text-anchor=\"middle\" x=\"100\" y=\"-342.3\" font-family=\"Helvetica,sans-Serif\" font-size=\"14.00\" fill=\"#000000\">samples = 45.1%</text>\n<text text-anchor=\"middle\" x=\"100\" y=\"-327.3\" font-family=\"Helvetica,sans-Serif\" font-size=\"14.00\" fill=\"#000000\">value = [0.599, 0.101, 0.299]</text>\n<text text-anchor=\"middle\" x=\"100\" y=\"-312.3\" font-family=\"Helvetica,sans-Serif\" font-size=\"14.00\" fill=\"#000000\">class = functional</text>\n</g>\n<!-- 1&#45;&gt;2 -->\n<g id=\"edge2\" class=\"edge\">\n<title>1&#45;&gt;2</title>\n<path fill=\"none\" stroke=\"#000000\" d=\"M235.1851,-400.9465C211.1292,-388.4997 184.0513,-374.4892 160.4827,-362.2946\"/>\n<polygon fill=\"#000000\" stroke=\"#000000\" points=\"161.7878,-359.0291 151.2978,-357.5422 158.571,-365.2462 161.7878,-359.0291\"/>\n</g>\n<!-- 3 -->\n<g id=\"node4\" class=\"node\">\n<title>3</title>\n<path fill=\"#f3c5a3\" stroke=\"#000000\" d=\"M382,-357.5C382,-357.5 230,-357.5 230,-357.5 224,-357.5 218,-351.5 218,-345.5 218,-345.5 218,-316.5 218,-316.5 218,-310.5 224,-304.5 230,-304.5 230,-304.5 382,-304.5 382,-304.5 388,-304.5 394,-310.5 394,-316.5 394,-316.5 394,-345.5 394,-345.5 394,-351.5 388,-357.5 382,-357.5\"/>\n<text text-anchor=\"middle\" x=\"306\" y=\"-342.3\" font-family=\"Helvetica,sans-Serif\" font-size=\"14.00\" fill=\"#000000\">samples = 27.7%</text>\n<text text-anchor=\"middle\" x=\"306\" y=\"-327.3\" font-family=\"Helvetica,sans-Serif\" font-size=\"14.00\" fill=\"#000000\">value = [0.63, 0.06, 0.31]</text>\n<text text-anchor=\"middle\" x=\"306\" y=\"-312.3\" font-family=\"Helvetica,sans-Serif\" font-size=\"14.00\" fill=\"#000000\">class = functional</text>\n</g>\n<!-- 1&#45;&gt;3 -->\n<g id=\"edge3\" class=\"edge\">\n<title>1&#45;&gt;3</title>\n<path fill=\"none\" stroke=\"#000000\" d=\"M302.6372,-400.9465C303.1509,-390.2621 303.7199,-378.4254 304.2416,-367.5742\"/>\n<polygon fill=\"#000000\" stroke=\"#000000\" points=\"307.7396,-367.6987 304.7239,-357.5422 300.7477,-367.3625 307.7396,-367.6987\"/>\n</g>\n<!-- 5 -->\n<g id=\"node6\" class=\"node\">\n<title>5</title>\n<path fill=\"#9d66eb\" stroke=\"#000000\" d=\"M601,-357.5C601,-357.5 433,-357.5 433,-357.5 427,-357.5 421,-351.5 421,-345.5 421,-345.5 421,-316.5 421,-316.5 421,-310.5 427,-304.5 433,-304.5 433,-304.5 601,-304.5 601,-304.5 607,-304.5 613,-310.5 613,-316.5 613,-316.5 613,-345.5 613,-345.5 613,-351.5 607,-357.5 601,-357.5\"/>\n<text text-anchor=\"middle\" x=\"517\" y=\"-342.3\" font-family=\"Helvetica,sans-Serif\" font-size=\"14.00\" fill=\"#000000\">samples = 10.9%</text>\n<text text-anchor=\"middle\" x=\"517\" y=\"-327.3\" font-family=\"Helvetica,sans-Serif\" font-size=\"14.00\" fill=\"#000000\">value = [0.159, 0.031, 0.81]</text>\n<text text-anchor=\"middle\" x=\"517\" y=\"-312.3\" font-family=\"Helvetica,sans-Serif\" font-size=\"14.00\" fill=\"#000000\">class = non functional</text>\n</g>\n<!-- 4&#45;&gt;5 -->\n<g id=\"edge5\" class=\"edge\">\n<title>4&#45;&gt;5</title>\n<path fill=\"none\" stroke=\"#000000\" d=\"M519.6903,-400.9465C519.2793,-390.2621 518.8241,-378.4254 518.4067,-367.5742\"/>\n<polygon fill=\"#000000\" stroke=\"#000000\" points=\"521.9027,-367.4002 518.0209,-357.5422 514.9079,-367.6693 521.9027,-367.4002\"/>\n</g>\n<!-- 6 -->\n<g id=\"node7\" class=\"node\">\n<title>6</title>\n<path fill=\"#fdf7f2\" stroke=\"#000000\" d=\"M821,-365C821,-365 643,-365 643,-365 637,-365 631,-359 631,-353 631,-353 631,-309 631,-309 631,-303 637,-297 643,-297 643,-297 821,-297 821,-297 827,-297 833,-303 833,-309 833,-309 833,-353 833,-353 833,-359 827,-365 821,-365\"/>\n<text text-anchor=\"middle\" x=\"732\" y=\"-349.8\" font-family=\"Helvetica,sans-Serif\" font-size=\"14.00\" fill=\"#000000\">extraction_type_class &lt;= 4.5</text>\n<text text-anchor=\"middle\" x=\"732\" y=\"-334.8\" font-family=\"Helvetica,sans-Serif\" font-size=\"14.00\" fill=\"#000000\">samples = 16.2%</text>\n<text text-anchor=\"middle\" x=\"732\" y=\"-319.8\" font-family=\"Helvetica,sans-Serif\" font-size=\"14.00\" fill=\"#000000\">value = [0.497, 0.043, 0.46]</text>\n<text text-anchor=\"middle\" x=\"732\" y=\"-304.8\" font-family=\"Helvetica,sans-Serif\" font-size=\"14.00\" fill=\"#000000\">class = functional</text>\n</g>\n<!-- 4&#45;&gt;6 -->\n<g id=\"edge6\" class=\"edge\">\n<title>4&#45;&gt;6</title>\n<path fill=\"none\" stroke=\"#000000\" d=\"M590.0893,-400.9465C610.4002,-390.9354 632.7633,-379.9129 653.6112,-369.6371\"/>\n<polygon fill=\"#000000\" stroke=\"#000000\" points=\"655.3332,-372.6905 662.7555,-365.13 652.2385,-366.4117 655.3332,-372.6905\"/>\n</g>\n<!-- 7 -->\n<g id=\"node8\" class=\"node\">\n<title>7</title>\n<path fill=\"#d8c1f7\" stroke=\"#000000\" d=\"M710,-253.5C710,-253.5 534,-253.5 534,-253.5 528,-253.5 522,-247.5 522,-241.5 522,-241.5 522,-212.5 522,-212.5 522,-206.5 528,-200.5 534,-200.5 534,-200.5 710,-200.5 710,-200.5 716,-200.5 722,-206.5 722,-212.5 722,-212.5 722,-241.5 722,-241.5 722,-247.5 716,-253.5 710,-253.5\"/>\n<text text-anchor=\"middle\" x=\"622\" y=\"-238.3\" font-family=\"Helvetica,sans-Serif\" font-size=\"14.00\" fill=\"#000000\">samples = 5.0%</text>\n<text text-anchor=\"middle\" x=\"622\" y=\"-223.3\" font-family=\"Helvetica,sans-Serif\" font-size=\"14.00\" fill=\"#000000\">value = [0.381, 0.045, 0.574]</text>\n<text text-anchor=\"middle\" x=\"622\" y=\"-208.3\" font-family=\"Helvetica,sans-Serif\" font-size=\"14.00\" fill=\"#000000\">class = non functional</text>\n</g>\n<!-- 6&#45;&gt;7 -->\n<g id=\"edge7\" class=\"edge\">\n<title>6&#45;&gt;7</title>\n<path fill=\"none\" stroke=\"#000000\" d=\"M695.9819,-296.9465C683.6325,-285.2707 669.8278,-272.219 657.5183,-260.5809\"/>\n<polygon fill=\"#000000\" stroke=\"#000000\" points=\"659.7445,-257.869 650.0734,-253.5422 654.9354,-262.9556 659.7445,-257.869\"/>\n</g>\n<!-- 8 -->\n<g id=\"node9\" class=\"node\">\n<title>8</title>\n<path fill=\"#f9e2d1\" stroke=\"#000000\" d=\"M930,-261C930,-261 752,-261 752,-261 746,-261 740,-255 740,-249 740,-249 740,-205 740,-205 740,-199 746,-193 752,-193 752,-193 930,-193 930,-193 936,-193 942,-199 942,-205 942,-205 942,-249 942,-249 942,-255 936,-261 930,-261\"/>\n<text text-anchor=\"middle\" x=\"841\" y=\"-245.8\" font-family=\"Helvetica,sans-Serif\" font-size=\"14.00\" fill=\"#000000\">extraction_type_class &lt;= 5.5</text>\n<text text-anchor=\"middle\" x=\"841\" y=\"-230.8\" font-family=\"Helvetica,sans-Serif\" font-size=\"14.00\" fill=\"#000000\">samples = 11.2%</text>\n<text text-anchor=\"middle\" x=\"841\" y=\"-215.8\" font-family=\"Helvetica,sans-Serif\" font-size=\"14.00\" fill=\"#000000\">value = [0.548, 0.042, 0.41]</text>\n<text text-anchor=\"middle\" x=\"841\" y=\"-200.8\" font-family=\"Helvetica,sans-Serif\" font-size=\"14.00\" fill=\"#000000\">class = functional</text>\n</g>\n<!-- 6&#45;&gt;8 -->\n<g id=\"edge8\" class=\"edge\">\n<title>6&#45;&gt;8</title>\n<path fill=\"none\" stroke=\"#000000\" d=\"M767.6907,-296.9465C777.2891,-287.7884 787.7747,-277.7838 797.7366,-268.2788\"/>\n<polygon fill=\"#000000\" stroke=\"#000000\" points=\"800.4102,-270.5655 805.2291,-261.13 795.5779,-265.5009 800.4102,-270.5655\"/>\n</g>\n<!-- 9 -->\n<g id=\"node10\" class=\"node\">\n<title>9</title>\n<path fill=\"#f9e4d5\" stroke=\"#000000\" d=\"M819,-149.5C819,-149.5 643,-149.5 643,-149.5 637,-149.5 631,-143.5 631,-137.5 631,-137.5 631,-108.5 631,-108.5 631,-102.5 637,-96.5 643,-96.5 643,-96.5 819,-96.5 819,-96.5 825,-96.5 831,-102.5 831,-108.5 831,-108.5 831,-137.5 831,-137.5 831,-143.5 825,-149.5 819,-149.5\"/>\n<text text-anchor=\"middle\" x=\"731\" y=\"-134.3\" font-family=\"Helvetica,sans-Serif\" font-size=\"14.00\" fill=\"#000000\">samples = 10.3%</text>\n<text text-anchor=\"middle\" x=\"731\" y=\"-119.3\" font-family=\"Helvetica,sans-Serif\" font-size=\"14.00\" fill=\"#000000\">value = [0.541, 0.042, 0.416]</text>\n<text text-anchor=\"middle\" x=\"731\" y=\"-104.3\" font-family=\"Helvetica,sans-Serif\" font-size=\"14.00\" fill=\"#000000\">class = functional</text>\n</g>\n<!-- 8&#45;&gt;9 -->\n<g id=\"edge9\" class=\"edge\">\n<title>8&#45;&gt;9</title>\n<path fill=\"none\" stroke=\"#000000\" d=\"M804.9819,-192.9465C792.6325,-181.2707 778.8278,-168.219 766.5183,-156.5809\"/>\n<polygon fill=\"#000000\" stroke=\"#000000\" points=\"768.7445,-153.869 759.0734,-149.5422 763.9354,-158.9556 768.7445,-153.869\"/>\n</g>\n<!-- 10 -->\n<g id=\"node11\" class=\"node\">\n<title>10</title>\n<path fill=\"#f4cbad\" stroke=\"#000000\" d=\"M1039,-157C1039,-157 861,-157 861,-157 855,-157 849,-151 849,-145 849,-145 849,-101 849,-101 849,-95 855,-89 861,-89 861,-89 1039,-89 1039,-89 1045,-89 1051,-95 1051,-101 1051,-101 1051,-145 1051,-145 1051,-151 1045,-157 1039,-157\"/>\n<text text-anchor=\"middle\" x=\"950\" y=\"-141.8\" font-family=\"Helvetica,sans-Serif\" font-size=\"14.00\" fill=\"#000000\">extraction_type_class &lt;= 6.5</text>\n<text text-anchor=\"middle\" x=\"950\" y=\"-126.8\" font-family=\"Helvetica,sans-Serif\" font-size=\"14.00\" fill=\"#000000\">samples = 0.9%</text>\n<text text-anchor=\"middle\" x=\"950\" y=\"-111.8\" font-family=\"Helvetica,sans-Serif\" font-size=\"14.00\" fill=\"#000000\">value = [0.614, 0.043, 0.343]</text>\n<text text-anchor=\"middle\" x=\"950\" y=\"-96.8\" font-family=\"Helvetica,sans-Serif\" font-size=\"14.00\" fill=\"#000000\">class = functional</text>\n</g>\n<!-- 8&#45;&gt;10 -->\n<g id=\"edge10\" class=\"edge\">\n<title>8&#45;&gt;10</title>\n<path fill=\"none\" stroke=\"#000000\" d=\"M876.6907,-192.9465C886.2891,-183.7884 896.7747,-173.7838 906.7366,-164.2788\"/>\n<polygon fill=\"#000000\" stroke=\"#000000\" points=\"909.4102,-166.5655 914.2291,-157.13 904.5779,-161.5009 909.4102,-166.5655\"/>\n</g>\n<!-- 11 -->\n<g id=\"node12\" class=\"node\">\n<title>11</title>\n<path fill=\"#f2bf9b\" stroke=\"#000000\" d=\"M929,-53C929,-53 753,-53 753,-53 747,-53 741,-47 741,-41 741,-41 741,-12 741,-12 741,-6 747,0 753,0 753,0 929,0 929,0 935,0 941,-6 941,-12 941,-12 941,-41 941,-41 941,-47 935,-53 929,-53\"/>\n<text text-anchor=\"middle\" x=\"841\" y=\"-37.8\" font-family=\"Helvetica,sans-Serif\" font-size=\"14.00\" fill=\"#000000\">samples = 0.7%</text>\n<text text-anchor=\"middle\" x=\"841\" y=\"-22.8\" font-family=\"Helvetica,sans-Serif\" font-size=\"14.00\" fill=\"#000000\">value = [0.657, 0.037, 0.306]</text>\n<text text-anchor=\"middle\" x=\"841\" y=\"-7.8\" font-family=\"Helvetica,sans-Serif\" font-size=\"14.00\" fill=\"#000000\">class = functional</text>\n</g>\n<!-- 10&#45;&gt;11 -->\n<g id=\"edge11\" class=\"edge\">\n<title>10&#45;&gt;11</title>\n<path fill=\"none\" stroke=\"#000000\" d=\"M911.5707,-88.9777C900.9173,-79.546 889.3641,-69.3178 878.7499,-59.9208\"/>\n<polygon fill=\"#000000\" stroke=\"#000000\" points=\"881.0207,-57.2566 871.2133,-53.2485 876.3806,-62.4978 881.0207,-57.2566\"/>\n</g>\n<!-- 12 -->\n<g id=\"node13\" class=\"node\">\n<title>12</title>\n<path fill=\"#f8f3fd\" stroke=\"#000000\" d=\"M1147,-53C1147,-53 971,-53 971,-53 965,-53 959,-47 959,-41 959,-41 959,-12 959,-12 959,-6 965,0 971,0 971,0 1147,0 1147,0 1153,0 1159,-6 1159,-12 1159,-12 1159,-41 1159,-41 1159,-47 1153,-53 1147,-53\"/>\n<text text-anchor=\"middle\" x=\"1059\" y=\"-37.8\" font-family=\"Helvetica,sans-Serif\" font-size=\"14.00\" fill=\"#000000\">samples = 0.2%</text>\n<text text-anchor=\"middle\" x=\"1059\" y=\"-22.8\" font-family=\"Helvetica,sans-Serif\" font-size=\"14.00\" fill=\"#000000\">value = [0.452, 0.065, 0.484]</text>\n<text text-anchor=\"middle\" x=\"1059\" y=\"-7.8\" font-family=\"Helvetica,sans-Serif\" font-size=\"14.00\" fill=\"#000000\">class = non functional</text>\n</g>\n<!-- 10&#45;&gt;12 -->\n<g id=\"edge12\" class=\"edge\">\n<title>10&#45;&gt;12</title>\n<path fill=\"none\" stroke=\"#000000\" d=\"M988.4293,-88.9777C999.0827,-79.546 1010.6359,-69.3178 1021.2501,-59.9208\"/>\n<polygon fill=\"#000000\" stroke=\"#000000\" points=\"1023.6194,-62.4978 1028.7867,-53.2485 1018.9793,-57.2566 1023.6194,-62.4978\"/>\n</g>\n</g>\n</svg>\n"
          },
          "metadata": {
            "tags": []
          }
        }
      ]
    },
    {
      "cell_type": "markdown",
      "metadata": {
        "colab_type": "text",
        "id": "P4EJi2GvgLVa"
      },
      "source": [
        "# Understand how tree ensembles reduce overfitting compared to a single decision tree with unlimited depth"
      ]
    },
    {
      "cell_type": "markdown",
      "metadata": {
        "id": "yreWzGWq1OMU",
        "colab_type": "text"
      },
      "source": [
        "## Overview"
      ]
    },
    {
      "cell_type": "markdown",
      "metadata": {
        "colab_type": "text",
        "id": "0nNABF3HgLVg"
      },
      "source": [
        "### What's \"random\" about random forests?\n",
        "1. Each tree trains on a random bootstrap sample of the data. (In scikit-learn, for `RandomForestRegressor` and `RandomForestClassifier`, the `bootstrap` parameter's default is `True`.) This type of ensembling is called Bagging. (Bootstrap AGGregatING.)\n",
        "2. Each split considers a random subset of the features. (In scikit-learn, when the `max_features` parameter is not `None`.) \n",
        "\n",
        "For extra randomness, you can try [\"extremely randomized trees\"](https://scikit-learn.org/stable/modules/ensemble.html#extremely-randomized-trees)!\n",
        "\n",
        ">In extremely randomized trees (see [ExtraTreesClassifier](https://scikit-learn.org/stable/modules/generated/sklearn.ensemble.ExtraTreesClassifier.html) and [ExtraTreesRegressor](https://scikit-learn.org/stable/modules/generated/sklearn.ensemble.ExtraTreesRegressor.html) classes), randomness goes one step further in the way splits are computed. As in random forests, a random subset of candidate features is used, but instead of looking for the most discriminative thresholds, thresholds are drawn at random for each candidate feature and the best of these randomly-generated thresholds is picked as the splitting rule. This usually allows to reduce the variance of the model a bit more, at the expense of a slightly greater increase in bias"
      ]
    },
    {
      "cell_type": "markdown",
      "metadata": {
        "id": "nZM9pH8M1OMW",
        "colab_type": "text"
      },
      "source": [
        "## Follow Along"
      ]
    },
    {
      "cell_type": "markdown",
      "metadata": {
        "colab_type": "text",
        "id": "pUYP619CgLVb"
      },
      "source": [
        "### Example: [predicting golf putts](https://statmodeling.stat.columbia.edu/2008/12/04/the_golf_puttin/)\n",
        "(1 feature, non-linear, regression)"
      ]
    },
    {
      "cell_type": "code",
      "metadata": {
        "colab_type": "code",
        "id": "b4640ukxgLVc",
        "colab": {}
      },
      "source": [
        "putts = pd.DataFrame(\n",
        "    columns=['distance', 'tries', 'successes'], \n",
        "    data = [[2, 1443, 1346],\n",
        "            [3, 694, 577],\n",
        "            [4, 455, 337],\n",
        "            [5, 353, 208],\n",
        "            [6, 272, 149],\n",
        "            [7, 256, 136],\n",
        "            [8, 240, 111],\n",
        "            [9, 217, 69],\n",
        "            [10, 200, 67],\n",
        "            [11, 237, 75],\n",
        "            [12, 202, 52],\n",
        "            [13, 192, 46],\n",
        "            [14, 174, 54],\n",
        "            [15, 167, 28],\n",
        "            [16, 201, 27],\n",
        "            [17, 195, 31],\n",
        "            [18, 191, 33],\n",
        "            [19, 147, 20],\n",
        "            [20, 152, 24]]\n",
        ")\n",
        "\n",
        "putts['rate of success'] = putts['successes'] / putts['tries']\n",
        "putts_X = putts[['distance']]\n",
        "putts_y = putts['rate of success']"
      ],
      "execution_count": 0,
      "outputs": []
    },
    {
      "cell_type": "code",
      "metadata": {
        "colab_type": "code",
        "id": "T0IpCcKggLVd",
        "colab": {
          "base_uri": "https://localhost:8080/",
          "height": 638,
          "referenced_widgets": [
            "0d597d6c28274bb887f259f100a35402",
            "5d97c34f280d4670b8ff2b35a6751fd1",
            "6adb4b467d8849f8ae9ae36a29a61751",
            "b370e7eb0f414d709a92ca8ca3eed847",
            "ab05c38aa3674fffade2ab3372e0d316",
            "c861e89c370b4c218c513647b861641e",
            "91ad5bd68e024c2b859a4f22c4a6a92c",
            "496578b64b9b4b4f8276081a5c16071a",
            "11e3652d43e8450e969161f9f6c5c5cd",
            "a8e8096a41d1435c91e39ed17164198e"
          ]
        },
        "outputId": "b21e6fc2-b787-47c8-b54f-c9cbe7f568d1"
      },
      "source": [
        "%matplotlib inline\n",
        "import matplotlib.pyplot as plt\n",
        "from ipywidgets import interact\n",
        "from sklearn.ensemble import RandomForestRegressor\n",
        "from sklearn.tree import DecisionTreeRegressor\n",
        "\n",
        "def putt_trees(max_depth=1, n_estimators=1):\n",
        "    models = [DecisionTreeRegressor(max_depth=max_depth), \n",
        "              RandomForestRegressor(max_depth=max_depth, n_estimators=n_estimators)]\n",
        "    \n",
        "    for model in models:\n",
        "        name = model.__class__.__name__\n",
        "        model.fit(putts_X, putts_y)\n",
        "        ax = putts.plot('distance', 'rate of success', kind='scatter', title=name)\n",
        "        ax.step(putts_X, model.predict(putts_X), where='mid')\n",
        "        plt.show()\n",
        "        \n",
        "interact(putt_trees, max_depth=(1,6,1), n_estimators=(10,40,10));"
      ],
      "execution_count": 44,
      "outputs": [
        {
          "output_type": "display_data",
          "data": {
            "application/vnd.jupyter.widget-view+json": {
              "model_id": "0d597d6c28274bb887f259f100a35402",
              "version_minor": 0,
              "version_major": 2
            },
            "text/plain": [
              "interactive(children=(IntSlider(value=1, description='max_depth', max=6, min=1), IntSlider(value=10, descripti…"
            ]
          },
          "metadata": {
            "tags": []
          }
        }
      ]
    },
    {
      "cell_type": "markdown",
      "metadata": {
        "colab_type": "text",
        "id": "rq4Z_wQ_gLVj"
      },
      "source": [
        "### Go back to Tanzania Waterpumps ..."
      ]
    },
    {
      "cell_type": "markdown",
      "metadata": {
        "colab_type": "text",
        "id": "FoSE9iT6YXQz"
      },
      "source": [
        "#### Helper function to visualize predicted probabilities\n",
        "\n"
      ]
    },
    {
      "cell_type": "code",
      "metadata": {
        "colab_type": "code",
        "id": "HzIAjGpJgLVj",
        "colab": {}
      },
      "source": [
        "import itertools\n",
        "import seaborn as sns\n",
        "\n",
        "def pred_heatmap(model, X, features, class_index=-1, title='', num=100):\n",
        "    \"\"\"\n",
        "    Visualize predicted probabilities, for classifier fit on 2 numeric features\n",
        "    \n",
        "    Parameters\n",
        "    ----------\n",
        "    model : scikit-learn classifier, already fit\n",
        "    X : pandas dataframe, which was used to fit model\n",
        "    features : list of strings, column names of the 2 numeric features\n",
        "    class_index : integer, index of class label\n",
        "    title : string, title of plot\n",
        "    num : int, number of grid points for each feature\n",
        "    \n",
        "    Returns\n",
        "    -------\n",
        "    y_pred_proba : numpy array, predicted probabilities for class_index\n",
        "    \"\"\"\n",
        "    feature1, feature2 = features\n",
        "    min1, max1 = X[feature1].min(), X[feature1].max()\n",
        "    min2, max2 = X[feature2].min(), X[feature2].max()\n",
        "    x1 = np.linspace(min1, max1, num)\n",
        "    x2 = np.linspace(max2, min2, num)\n",
        "    combos = list(itertools.product(x1, x2))\n",
        "    y_pred_proba = model.predict_proba(combos)[:, class_index]\n",
        "    pred_grid = y_pred_proba.reshape(num, num).T\n",
        "    table = pd.DataFrame(pred_grid, columns=x1, index=x2)\n",
        "    sns.heatmap(table, vmin=0, vmax=1)\n",
        "    plt.xticks([])\n",
        "    plt.yticks([])\n",
        "    plt.xlabel(feature1)\n",
        "    plt.ylabel(feature2)\n",
        "    plt.title(title)\n",
        "    plt.show()\n",
        "    return y_pred_proba\n"
      ],
      "execution_count": 0,
      "outputs": []
    },
    {
      "cell_type": "markdown",
      "metadata": {
        "colab_type": "text",
        "id": "DiRfPqHjgLVl"
      },
      "source": [
        "### Compare Decision Tree, Random Forest, Logistic Regression"
      ]
    },
    {
      "cell_type": "code",
      "metadata": {
        "colab_type": "code",
        "id": "HKkMLXhMgLVl",
        "colab": {
          "base_uri": "https://localhost:8080/",
          "height": 864,
          "referenced_widgets": [
            "bb94296431ec466fb12ee452a4ff4817",
            "ff4cfa8bc39249f586f84993de270e8c",
            "757f876f10c249049ef2e341ddbf4045",
            "23135258b488472eb52e3e9a9e68f679",
            "8bc6055c901446c58f049efae48c5c1d",
            "7fbc2131f12642df8a70040709dfc121",
            "5c2abfc090b14a78ba42c7c35ac11047",
            "2ece3506160248f6bd59b17da242d63b",
            "b234fdfa9359416ca21eddd6cd062fe3",
            "95320e3f0143467ba0444854d68d9875"
          ]
        },
        "outputId": "04137c55-1b10-4564-97e5-8d9c7a2fa4b7"
      },
      "source": [
        "# Instructions\n",
        "# 1. Choose two features\n",
        "# 2. Run this code cell\n",
        "# 3. Interact with the widget sliders\n",
        "feature1 = 'longitude'\n",
        "feature2 = 'quantity'\n",
        "\n",
        "from sklearn.linear_model import LogisticRegression\n",
        "from sklearn.tree import DecisionTreeClassifier\n",
        "\n",
        "def get_X_y(df, feature1, feature2, target):\n",
        "    features = [feature1, feature2]\n",
        "    X = df[features]\n",
        "    y = df[target]\n",
        "    X = X.fillna(X.median())\n",
        "    X = ce.OrdinalEncoder().fit_transform(X)\n",
        "    return X, y\n",
        "\n",
        "def compare_models(max_depth=1, n_estimators=1):\n",
        "    models = [DecisionTreeClassifier(max_depth=max_depth), \n",
        "              RandomForestClassifier(max_depth=max_depth, n_estimators=n_estimators), \n",
        "              LogisticRegression(solver='lbfgs', multi_class='auto')]\n",
        "    \n",
        "    for model in models:\n",
        "        name = model.__class__.__name__\n",
        "        model.fit(X, y)\n",
        "        pred_heatmap(model, X, [feature1, feature2], class_index=0, title=name)\n",
        "\n",
        "X, y = get_X_y(train, feature1, feature2, target='status_group')\n",
        "interact(compare_models, max_depth=(1,6,1), n_estimators=(10,40,10));"
      ],
      "execution_count": 46,
      "outputs": [
        {
          "output_type": "display_data",
          "data": {
            "application/vnd.jupyter.widget-view+json": {
              "model_id": "bb94296431ec466fb12ee452a4ff4817",
              "version_minor": 0,
              "version_major": 2
            },
            "text/plain": [
              "interactive(children=(IntSlider(value=1, description='max_depth', max=6, min=1), IntSlider(value=10, descripti…"
            ]
          },
          "metadata": {
            "tags": []
          }
        }
      ]
    },
    {
      "cell_type": "markdown",
      "metadata": {
        "colab_type": "text",
        "id": "hOQqjLEDgLVn"
      },
      "source": [
        "### Bagging"
      ]
    },
    {
      "cell_type": "code",
      "metadata": {
        "colab_type": "code",
        "id": "Hm4aPgs2gLVn",
        "colab": {}
      },
      "source": [
        "# Do-it-yourself Bagging Ensemble of Decision Trees (like a Random Forest)\n",
        "\n",
        "# Instructions\n",
        "# 1. Choose two features\n",
        "# 2. Run this code cell\n",
        "# 3. Interact with the widget sliders\n",
        "\n",
        "feature1 = 'longitude'\n",
        "feature2 = 'latitude'\n",
        "\n",
        "def waterpumps_bagging(max_depth=1, n_estimators=1):\n",
        "    predicteds = []\n",
        "    for i in range(n_estimators):\n",
        "        title = f'Tree {i+1}'\n",
        "        bootstrap_sample = train.sample(n=len(train), replace=True)\n",
        "        X, y = get_X_y(bootstrap_sample, feature1, feature2, target='status_group')\n",
        "        tree = DecisionTreeClassifier(max_depth=max_depth)\n",
        "        tree.fit(X, y)\n",
        "        predicted = pred_heatmap(tree, X, [feature1, feature2], class_index=0, title=title)\n",
        "        predicteds.append(predicted)\n",
        "    \n",
        "    ensembled = np.vstack(predicteds).mean(axis=0)\n",
        "    title = f'Ensemble of {n_estimators} trees, with max_depth={max_depth}'\n",
        "    sns.heatmap(ensembled.reshape(100, 100).T, vmin=0, vmax=1)\n",
        "    plt.title(title)\n",
        "    plt.xlabel(feature1)\n",
        "    plt.ylabel(feature2)\n",
        "    plt.xticks([])\n",
        "    plt.yticks([])\n",
        "    plt.show()\n",
        "        \n",
        "interact(waterpumps_bagging, max_depth=(1,6,1), n_estimators=(2,5,1));"
      ],
      "execution_count": 0,
      "outputs": []
    },
    {
      "cell_type": "markdown",
      "metadata": {
        "colab_type": "text",
        "id": "wYoSBi15akWP"
      },
      "source": [
        "# Review\n",
        "\n",
        "#### Try Tree Ensembles when you do machine learning with labeled, tabular data\n",
        "- \"Tree Ensembles\" means Random Forest or Gradient Boosting models. \n",
        "- [Tree Ensembles often have the best predictive accuracy](https://arxiv.org/abs/1708.05070) with labeled, tabular data.\n",
        "- Why? Because trees can fit non-linear, non-[monotonic](https://en.wikipedia.org/wiki/Monotonic_function) relationships, and [interactions](https://christophm.github.io/interpretable-ml-book/interaction.html) between features.\n",
        "- A single decision tree, grown to unlimited depth, will [overfit](http://www.r2d3.us/visual-intro-to-machine-learning-part-1/). We solve this problem by ensembling trees, with bagging (Random Forest) or boosting (Gradient Boosting).\n",
        "- Random Forest's advantage: may be less sensitive to hyperparameters. Gradient Boosting's advantage: may get better predictive accuracy.\n",
        "\n",
        "#### One-hot encoding isn’t the only way, and may not be the best way, of categorical encoding for tree ensembles.\n",
        "- For example, tree ensembles can work with arbitrary \"ordinal\" encoding! (Randomly assigning an integer to each category.) Compared to one-hot encoding, the dimensionality will be lower, and the predictive accuracy may be just as good or even better.\n"
      ]
    }
  ]
}